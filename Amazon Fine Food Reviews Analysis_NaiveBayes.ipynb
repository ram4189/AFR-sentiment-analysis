{
 "cells": [
  {
   "cell_type": "markdown",
   "metadata": {
    "colab_type": "text",
    "id": "UIn1GsFNJkjH"
   },
   "source": [
    "# Amazon Fine Food Reviews Analysis\n",
    "\n",
    "\n",
    "Data Source: https://www.kaggle.com/snap/amazon-fine-food-reviews <br>\n",
    "\n",
    "EDA: https://nycdatascience.com/blog/student-works/amazon-fine-foods-visualization/\n",
    "\n",
    "\n",
    "The Amazon Fine Food Reviews dataset consists of reviews of fine foods from Amazon.<br>\n",
    "\n",
    "Number of reviews: 568,454<br>\n",
    "Number of users: 256,059<br>\n",
    "Number of products: 74,258<br>\n",
    "Timespan: Oct 1999 - Oct 2012<br>\n",
    "Number of Attributes/Columns in data: 10 \n",
    "\n",
    "Attribute Information:\n",
    "\n",
    "1. Id\n",
    "2. ProductId - unique identifier for the product\n",
    "3. UserId - unqiue identifier for the user\n",
    "4. ProfileName\n",
    "5. HelpfulnessNumerator - number of users who found the review helpful\n",
    "6. HelpfulnessDenominator - number of users who indicated whether they found the review helpful or not\n",
    "7. Score - rating between 1 and 5\n",
    "8. Time - timestamp for the review\n",
    "9. Summary - brief summary of the review\n",
    "10. Text - text of the review\n",
    "\n",
    "\n",
    "#### Objective:\n",
    "Given a review, determine whether the review is positive (rating of 4 or 5) or negative (rating of 1 or 2).\n",
    "\n",
    "<br>\n",
    "[Q] How to determine if a review is positive or negative?<br>\n",
    "<br> \n",
    "[Ans] We could use Score/Rating. A rating of 4 or 5 can be cosnidered as a positive review. A rating of 1 or 2 can be considered as negative one. A review of rating 3 is considered nuetral and such reviews are ignored from our analysis. This is an approximate and proxy way of determining the polarity (positivity/negativity) of a review.\n",
    "\n",
    "\n"
   ]
  },
  {
   "cell_type": "markdown",
   "metadata": {
    "colab_type": "text",
    "id": "5Uf26aoLJkjJ"
   },
   "source": [
    "# [1]. Reading Data"
   ]
  },
  {
   "cell_type": "markdown",
   "metadata": {
    "colab_type": "text",
    "id": "yo-LaJg3JkjK"
   },
   "source": [
    "## [1.1] Loading the data\n",
    "\n",
    "The dataset is available in two forms\n",
    "1. .csv file\n",
    "2. SQLite Database\n",
    "\n",
    "In order to load the data, We have used the SQLITE dataset as it is easier to query the data and visualise the data efficiently.\n",
    "<br> \n",
    "\n",
    "Here as we only want to get the global sentiment of the recommendations (positive or negative), we will purposefully ignore all Scores equal to 3. If the score is above 3, then the recommendation wil be set to \"positive\". Otherwise, it will be set to \"negative\"."
   ]
  },
  {
   "cell_type": "code",
   "execution_count": 59,
   "metadata": {
    "colab": {},
    "colab_type": "code",
    "id": "dLYq3BkfJkjL"
   },
   "outputs": [],
   "source": [
    "%matplotlib inline\n",
    "import warnings\n",
    "warnings.filterwarnings(\"ignore\")\n",
    "\n",
    "\n",
    "import sqlite3\n",
    "import pandas as pd\n",
    "import numpy as np\n",
    "import nltk\n",
    "import string\n",
    "import matplotlib.pyplot as plt\n",
    "import seaborn as sns\n",
    "from sklearn.feature_extraction.text import TfidfTransformer\n",
    "from sklearn.feature_extraction.text import TfidfVectorizer\n",
    "\n",
    "from sklearn.feature_extraction.text import CountVectorizer\n",
    "from sklearn.metrics import confusion_matrix\n",
    "from sklearn import metrics\n",
    "from sklearn.metrics import roc_curve, auc\n",
    "from nltk.stem.porter import PorterStemmer\n",
    "\n",
    "from sklearn.naive_bayes import MultinomialNB\n",
    "\n",
    "import re\n",
    "# Tutorial about Python regular expressions: https://pymotw.com/2/re/\n",
    "import string\n",
    "from nltk.corpus import stopwords\n",
    "from nltk.stem import PorterStemmer\n",
    "from nltk.stem.wordnet import WordNetLemmatizer\n",
    "\n",
    "from gensim.models import Word2Vec\n",
    "from gensim.models import KeyedVectors\n",
    "import pickle\n",
    "\n",
    "from tqdm import tqdm\n",
    "import os\n",
    "\n",
    "from bs4 import BeautifulSoup\n",
    "\n",
    "from sklearn.model_selection import cross_val_score\n",
    "from sklearn.model_selection import train_test_split\n",
    "from sklearn.preprocessing import StandardScaler\n",
    "\n",
    "from sklearn.neighbors import KNeighborsClassifier\n",
    "from sklearn.metrics import roc_curve, auc\n",
    "from sklearn.metrics import roc_auc_score\n",
    "from sklearn.metrics import accuracy_score\n",
    "\n",
    "from sklearn.metrics import confusion_matrix\n",
    "from sklearn.model_selection import GridSearchCV\n",
    "\n",
    "from prettytable import PrettyTable"
   ]
  },
  {
   "cell_type": "code",
   "execution_count": 60,
   "metadata": {
    "colab": {},
    "colab_type": "code",
    "id": "rXVxnx_NJkjO",
    "outputId": "98628980-4d6e-4c53-913f-2d207932d2d0"
   },
   "outputs": [
    {
     "name": "stdout",
     "output_type": "stream",
     "text": [
      "Number of data points in our data (525814, 10)\n"
     ]
    },
    {
     "data": {
      "text/html": [
       "<div>\n",
       "<style scoped>\n",
       "    .dataframe tbody tr th:only-of-type {\n",
       "        vertical-align: middle;\n",
       "    }\n",
       "\n",
       "    .dataframe tbody tr th {\n",
       "        vertical-align: top;\n",
       "    }\n",
       "\n",
       "    .dataframe thead th {\n",
       "        text-align: right;\n",
       "    }\n",
       "</style>\n",
       "<table border=\"1\" class=\"dataframe\">\n",
       "  <thead>\n",
       "    <tr style=\"text-align: right;\">\n",
       "      <th></th>\n",
       "      <th>Id</th>\n",
       "      <th>ProductId</th>\n",
       "      <th>UserId</th>\n",
       "      <th>ProfileName</th>\n",
       "      <th>HelpfulnessNumerator</th>\n",
       "      <th>HelpfulnessDenominator</th>\n",
       "      <th>Score</th>\n",
       "      <th>Time</th>\n",
       "      <th>Summary</th>\n",
       "      <th>Text</th>\n",
       "    </tr>\n",
       "  </thead>\n",
       "  <tbody>\n",
       "    <tr>\n",
       "      <th>0</th>\n",
       "      <td>1</td>\n",
       "      <td>B001E4KFG0</td>\n",
       "      <td>A3SGXH7AUHU8GW</td>\n",
       "      <td>delmartian</td>\n",
       "      <td>1</td>\n",
       "      <td>1</td>\n",
       "      <td>1</td>\n",
       "      <td>1303862400</td>\n",
       "      <td>Good Quality Dog Food</td>\n",
       "      <td>I have bought several of the Vitality canned d...</td>\n",
       "    </tr>\n",
       "    <tr>\n",
       "      <th>1</th>\n",
       "      <td>2</td>\n",
       "      <td>B00813GRG4</td>\n",
       "      <td>A1D87F6ZCVE5NK</td>\n",
       "      <td>dll pa</td>\n",
       "      <td>0</td>\n",
       "      <td>0</td>\n",
       "      <td>0</td>\n",
       "      <td>1346976000</td>\n",
       "      <td>Not as Advertised</td>\n",
       "      <td>Product arrived labeled as Jumbo Salted Peanut...</td>\n",
       "    </tr>\n",
       "    <tr>\n",
       "      <th>2</th>\n",
       "      <td>3</td>\n",
       "      <td>B000LQOCH0</td>\n",
       "      <td>ABXLMWJIXXAIN</td>\n",
       "      <td>Natalia Corres \"Natalia Corres\"</td>\n",
       "      <td>1</td>\n",
       "      <td>1</td>\n",
       "      <td>1</td>\n",
       "      <td>1219017600</td>\n",
       "      <td>\"Delight\" says it all</td>\n",
       "      <td>This is a confection that has been around a fe...</td>\n",
       "    </tr>\n",
       "  </tbody>\n",
       "</table>\n",
       "</div>"
      ],
      "text/plain": [
       "   Id   ProductId          UserId                      ProfileName  \\\n",
       "0   1  B001E4KFG0  A3SGXH7AUHU8GW                       delmartian   \n",
       "1   2  B00813GRG4  A1D87F6ZCVE5NK                           dll pa   \n",
       "2   3  B000LQOCH0   ABXLMWJIXXAIN  Natalia Corres \"Natalia Corres\"   \n",
       "\n",
       "   HelpfulnessNumerator  HelpfulnessDenominator  Score        Time  \\\n",
       "0                     1                       1      1  1303862400   \n",
       "1                     0                       0      0  1346976000   \n",
       "2                     1                       1      1  1219017600   \n",
       "\n",
       "                 Summary                                               Text  \n",
       "0  Good Quality Dog Food  I have bought several of the Vitality canned d...  \n",
       "1      Not as Advertised  Product arrived labeled as Jumbo Salted Peanut...  \n",
       "2  \"Delight\" says it all  This is a confection that has been around a fe...  "
      ]
     },
     "execution_count": 60,
     "metadata": {},
     "output_type": "execute_result"
    }
   ],
   "source": [
    "# using SQLite Table to read data.\n",
    "con = sqlite3.connect('database.sqlite') \n",
    "\n",
    "# filtering only positive and negative reviews i.e. \n",
    "# not taking into consideration those reviews with Score=3\n",
    "# SELECT * FROM Reviews WHERE Score != 3 LIMIT 500000, will give top 500000 data points\n",
    "# you can change the number to any other number based on your computing power\n",
    "\n",
    "# filtered_data = pd.read_sql_query(\"\"\" SELECT * FROM Reviews WHERE Score != 3 LIMIT 50000\"\"\", con) \n",
    "# for tsne assignment you can take 5k data points\n",
    "\n",
    "filtered_data = pd.read_sql_query(\"\"\" SELECT * FROM Reviews WHERE Score != 3 \"\"\", con) \n",
    "\n",
    "# Give reviews with Score>3 a positive rating(1), and reviews with a score<3 a negative rating(0).\n",
    "def partition(x):\n",
    "    if x < 3:\n",
    "        return 0\n",
    "    return 1\n",
    "\n",
    "#changing reviews with score less than 3 to be positive and vice-versa\n",
    "actualScore = filtered_data['Score']\n",
    "positiveNegative = actualScore.map(partition) \n",
    "filtered_data['Score'] = positiveNegative\n",
    "print(\"Number of data points in our data\", filtered_data.shape)\n",
    "filtered_data.head(3)"
   ]
  },
  {
   "cell_type": "markdown",
   "metadata": {
    "colab_type": "text",
    "id": "y22fy_WtJkji"
   },
   "source": [
    "#  [2] Exploratory Data Analysis"
   ]
  },
  {
   "cell_type": "markdown",
   "metadata": {
    "colab_type": "text",
    "id": "ZqpW3tWPJkjl"
   },
   "source": [
    "## [2.1] Data Cleaning: Deduplication\n",
    "\n",
    "It is observed (as shown in the table below) that the reviews data had many duplicate entries. Hence it was necessary to remove duplicates in order to get unbiased results for the analysis of the data.  Following is an example:"
   ]
  },
  {
   "cell_type": "markdown",
   "metadata": {
    "colab_type": "text",
    "id": "pvogJHEyJkjq"
   },
   "source": [
    "As it can be seen above that same user has multiple reviews with same values for HelpfulnessNumerator, HelpfulnessDenominator, Score, Time, Summary and Text and on doing analysis it was found that <br>\n",
    "<br> \n",
    "ProductId=B000HDOPZG was Loacker Quadratini Vanilla Wafer Cookies, 8.82-Ounce Packages (Pack of 8)<br>\n",
    "<br> \n",
    "ProductId=B000HDL1RQ was Loacker Quadratini Lemon Wafer Cookies, 8.82-Ounce Packages (Pack of 8) and so on<br>\n",
    "\n",
    "It was inferred after analysis that reviews with same parameters other than ProductId belonged to the same product just having different flavour or quantity. Hence in order to reduce redundancy it was decided to eliminate the rows having same parameters.<br>\n",
    "\n",
    "The method used for the same was that we first sort the data according to ProductId and then just keep the first similar product review and delelte the others. for eg. in the above just the review for ProductId=B000HDL1RQ remains. This method ensures that there is only one representative for each product and deduplication without sorting would lead to possibility of different representatives still existing for the same product."
   ]
  },
  {
   "cell_type": "code",
   "execution_count": 61,
   "metadata": {
    "colab": {},
    "colab_type": "code",
    "id": "LAWOrfBaJkjr"
   },
   "outputs": [],
   "source": [
    "#Sorting data according to ProductId in ascending order\n",
    "sorted_data=filtered_data.sort_values('ProductId', axis=0, ascending=True, inplace=False, kind='quicksort', na_position='last')"
   ]
  },
  {
   "cell_type": "code",
   "execution_count": 62,
   "metadata": {
    "colab": {},
    "colab_type": "code",
    "id": "dfaQob28Jkju",
    "outputId": "21104e4f-cd18-4353-a54a-5b4638fc552b"
   },
   "outputs": [
    {
     "data": {
      "text/plain": [
       "(364173, 10)"
      ]
     },
     "execution_count": 62,
     "metadata": {},
     "output_type": "execute_result"
    }
   ],
   "source": [
    "#Deduplication of entries\n",
    "final=sorted_data.drop_duplicates(subset={\"UserId\",\"ProfileName\",\"Time\",\"Text\"}, keep='first', inplace=False)\n",
    "final.shape"
   ]
  },
  {
   "cell_type": "code",
   "execution_count": 63,
   "metadata": {
    "colab": {},
    "colab_type": "code",
    "id": "9QVxT6oxJkjx",
    "outputId": "f292b9fe-6065-4979-830d-c79bc6785a3d"
   },
   "outputs": [
    {
     "data": {
      "text/plain": [
       "69.25890143662969"
      ]
     },
     "execution_count": 63,
     "metadata": {},
     "output_type": "execute_result"
    }
   ],
   "source": [
    "#Checking to see how much % of data still remains\n",
    "(final['Id'].size*1.0)/(filtered_data['Id'].size*1.0)*100"
   ]
  },
  {
   "cell_type": "markdown",
   "metadata": {
    "colab_type": "text",
    "id": "qVaxONHLJkj1"
   },
   "source": [
    "<b>Observation:-</b> It was also seen that in two rows given below the value of HelpfulnessNumerator is greater than HelpfulnessDenominator which is not practically possible hence these two rows too are removed from calcualtions"
   ]
  },
  {
   "cell_type": "code",
   "execution_count": 64,
   "metadata": {
    "colab": {},
    "colab_type": "code",
    "id": "f_185ozFJkj9"
   },
   "outputs": [],
   "source": [
    "final=final[final.HelpfulnessNumerator<=final.HelpfulnessDenominator]"
   ]
  },
  {
   "cell_type": "code",
   "execution_count": 65,
   "metadata": {
    "colab": {},
    "colab_type": "code",
    "id": "CofRySJyJkkC",
    "outputId": "a06c52f6-66a9-429b-8a5e-e20259f0bb21"
   },
   "outputs": [
    {
     "name": "stdout",
     "output_type": "stream",
     "text": [
      "(364171, 10)\n"
     ]
    },
    {
     "data": {
      "text/plain": [
       "1    307061\n",
       "0     57110\n",
       "Name: Score, dtype: int64"
      ]
     },
     "execution_count": 65,
     "metadata": {},
     "output_type": "execute_result"
    }
   ],
   "source": [
    "#Before starting the next phase of preprocessing lets see the number of entries left\n",
    "print(final.shape)\n",
    "\n",
    "#How many positive and negative reviews are present in our dataset?\n",
    "final['Score'].value_counts()"
   ]
  },
  {
   "cell_type": "markdown",
   "metadata": {
    "colab_type": "text",
    "id": "-fEWeywxJkkI"
   },
   "source": [
    "#  [3] Preprocessing"
   ]
  },
  {
   "cell_type": "markdown",
   "metadata": {
    "colab_type": "text",
    "id": "tzpbt9aOJkkJ"
   },
   "source": [
    "## [3.1].  Preprocessing Review Text\n",
    "\n",
    "Now that we have finished deduplication our data requires some preprocessing before we go on further with analysis and making the prediction model.\n",
    "\n",
    "Hence in the Preprocessing phase we do the following in the order below:-\n",
    "\n",
    "1. Begin by removing the html tags\n",
    "2. Remove any punctuations or limited set of special characters like , or . or # etc.\n",
    "3. Check if the word is made up of english letters and is not alpha-numeric\n",
    "4. Check to see if the length of the word is greater than 2 (as it was researched that there is no adjective in 2-letters)\n",
    "5. Convert the word to lowercase\n",
    "6. Remove Stopwords\n",
    "7. Finally Snowball Stemming the word (it was obsereved to be better than Porter Stemming)<br>\n",
    "\n",
    "After which we collect the words used to describe positive and negative reviews"
   ]
  },
  {
   "cell_type": "code",
   "execution_count": 66,
   "metadata": {
    "colab": {},
    "colab_type": "code",
    "id": "HYBbtiCMJkkW"
   },
   "outputs": [],
   "source": [
    "# https://stackoverflow.com/a/47091490/4084039\n",
    "import re\n",
    "\n",
    "def decontracted(phrase):\n",
    "    # specific\n",
    "    phrase = re.sub(r\"won't\", \"will not\", phrase)\n",
    "    phrase = re.sub(r\"can\\'t\", \"can not\", phrase)\n",
    "\n",
    "    # general\n",
    "    phrase = re.sub(r\"n\\'t\", \" not\", phrase)\n",
    "    phrase = re.sub(r\"\\'re\", \" are\", phrase)\n",
    "    phrase = re.sub(r\"\\'s\", \" is\", phrase)\n",
    "    phrase = re.sub(r\"\\'d\", \" would\", phrase)\n",
    "    phrase = re.sub(r\"\\'ll\", \" will\", phrase)\n",
    "    phrase = re.sub(r\"\\'t\", \" not\", phrase)\n",
    "    phrase = re.sub(r\"\\'ve\", \" have\", phrase)\n",
    "    phrase = re.sub(r\"\\'m\", \" am\", phrase)\n",
    "    return phrase"
   ]
  },
  {
   "cell_type": "code",
   "execution_count": 67,
   "metadata": {
    "colab": {},
    "colab_type": "code",
    "id": "bvEoXB5NJkkk"
   },
   "outputs": [],
   "source": [
    "# https://gist.github.com/sebleier/554280\n",
    "# we are removing the words from the stop words list: 'no', 'nor', 'not'\n",
    "# <br /><br /> ==> after the above steps, we are getting \"br br\"\n",
    "# we are including them into stop words list\n",
    "# instead of <br /> if we have <br/> these tags would have revmoved in the 1st step\n",
    "\n",
    "stopwords= set(['br', 'the', 'i', 'me', 'my', 'myself', 'we', 'our', 'ours', 'ourselves', 'you', \"you're\", \"you've\",\\\n",
    "            \"you'll\", \"you'd\", 'your', 'yours', 'yourself', 'yourselves', 'he', 'him', 'his', 'himself', \\\n",
    "            'she', \"she's\", 'her', 'hers', 'herself', 'it', \"it's\", 'its', 'itself', 'they', 'them', 'their',\\\n",
    "            'theirs', 'themselves', 'what', 'which', 'who', 'whom', 'this', 'that', \"that'll\", 'these', 'those', \\\n",
    "            'am', 'is', 'are', 'was', 'were', 'be', 'been', 'being', 'have', 'has', 'had', 'having', 'do', 'does', \\\n",
    "            'did', 'doing', 'a', 'an', 'the', 'and', 'but', 'if', 'or', 'because', 'as', 'until', 'while', 'of', \\\n",
    "            'at', 'by', 'for', 'with', 'about', 'against', 'between', 'into', 'through', 'during', 'before', 'after',\\\n",
    "            'above', 'below', 'to', 'from', 'up', 'down', 'in', 'out', 'on', 'off', 'over', 'under', 'again', 'further',\\\n",
    "            'then', 'once', 'here', 'there', 'when', 'where', 'why', 'how', 'all', 'any', 'both', 'each', 'few', 'more',\\\n",
    "            'most', 'other', 'some', 'such', 'only', 'own', 'same', 'so', 'than', 'too', 'very', \\\n",
    "            's', 't', 'can', 'will', 'just', 'don', \"don't\", 'should', \"should've\", 'now', 'd', 'll', 'm', 'o', 're', \\\n",
    "            've', 'y', 'ain', 'aren', \"aren't\", 'couldn', \"couldn't\", 'didn', \"didn't\", 'doesn', \"doesn't\", 'hadn',\\\n",
    "            \"hadn't\", 'hasn', \"hasn't\", 'haven', \"haven't\", 'isn', \"isn't\", 'ma', 'mightn', \"mightn't\", 'mustn',\\\n",
    "            \"mustn't\", 'needn', \"needn't\", 'shan', \"shan't\", 'shouldn', \"shouldn't\", 'wasn', \"wasn't\", 'weren', \"weren't\", \\\n",
    "            'won', \"won't\", 'wouldn', \"wouldn't\"])"
   ]
  },
  {
   "cell_type": "code",
   "execution_count": 68,
   "metadata": {
    "colab": {},
    "colab_type": "code",
    "id": "0j3jfqWCJkko",
    "outputId": "c83c59c5-fe17-4ad2-d43f-0b0947a6e6ba"
   },
   "outputs": [
    {
     "name": "stderr",
     "output_type": "stream",
     "text": [
      "100%|████████████████████████████████████████████████████████████████████████████████████████████████████████████████████████████| 364171/364171 [04:41<00:00, 1291.71it/s]\n"
     ]
    }
   ],
   "source": [
    "# Combining all the above stundents \n",
    "from tqdm import tqdm\n",
    "preprocessed_reviews = []\n",
    "# tqdm is for printing the status bar\n",
    "for sentance in tqdm(final['Text'].values):\n",
    "    sentance = re.sub(r\"http\\S+\", \"\", sentance)\n",
    "    sentance = BeautifulSoup(sentance, 'lxml').get_text()\n",
    "    sentance = decontracted(sentance)\n",
    "    sentance = re.sub(\"\\S*\\d\\S*\", \"\", sentance).strip()\n",
    "    sentance = re.sub('[^A-Za-z]+', ' ', sentance)\n",
    "    # https://gist.github.com/sebleier/554280\n",
    "    sentance = ' '.join(e.lower() for e in sentance.split() if e.lower() not in stopwords)\n",
    "    preprocessed_reviews.append(sentance.strip())"
   ]
  },
  {
   "cell_type": "markdown",
   "metadata": {
    "colab": {},
    "colab_type": "code",
    "id": "nS_7EeV7Jkkr",
    "outputId": "4d4cd05e-0730-4e52-dc30-eb97014871dd"
   },
   "source": [
    "<b>We are preprocessing review summary as well because we need to generate a column using the length of review summary.</b/>"
   ]
  },
  {
   "cell_type": "markdown",
   "metadata": {
    "colab_type": "text",
    "id": "zak5yP5zJkkt"
   },
   "source": [
    "<h2><font color='red'>[3.2] Preprocessing Review Summary</font></h2>"
   ]
  },
  {
   "cell_type": "code",
   "execution_count": 69,
   "metadata": {
    "colab": {},
    "colab_type": "code",
    "id": "wZ3Epk1wJkku"
   },
   "outputs": [
    {
     "name": "stderr",
     "output_type": "stream",
     "text": [
      "100%|████████████████████████████████████████████████████████████████████████████████████████████████████████████████████████████| 364171/364171 [05:54<00:00, 1027.30it/s]\n"
     ]
    }
   ],
   "source": [
    "## Similartly you can do preprocessing for review summary also.\n",
    "# Combining all the above stundents \n",
    "from tqdm import tqdm\n",
    "preprocessed_Summaries = []\n",
    "# tqdm is for printing the status bar\n",
    "for sentance in tqdm(final['Summary'].values):\n",
    "    sentance = re.sub(r\"http\\S+\", \"\", sentance)\n",
    "    sentance = BeautifulSoup(sentance, 'lxml').get_text()\n",
    "    sentance = decontracted(sentance)\n",
    "    sentance = re.sub(\"\\S*\\d\\S*\", \"\", sentance).strip()\n",
    "    sentance = re.sub('[^A-Za-z]+', ' ', sentance)\n",
    "    # https://gist.github.com/sebleier/554280\n",
    "    sentance = ' '.join(e.lower() for e in sentance.split() if e.lower() not in stopwords)\n",
    "    preprocessed_Summaries.append(sentance.strip())"
   ]
  },
  {
   "cell_type": "code",
   "execution_count": 70,
   "metadata": {},
   "outputs": [
    {
     "name": "stdout",
     "output_type": "stream",
     "text": [
      "['witty little book makes son laugh loud recite car driving along always sing refrain learned whales india drooping roses love new words book introduces silliness classic book willing bet son still able recite memory college', 'grew reading sendak books watching really rosie movie incorporates love son loves however miss hard cover version paperbacks seem kind flimsy takes two hands keep pages open', 'fun way children learn months year learn poems throughout school year like handmotions invent poem']\n",
      "['every book educational', 'love book miss hard cover version', 'chicken soup rice months']\n"
     ]
    }
   ],
   "source": [
    "print(preprocessed_reviews[:3])\n",
    "print(preprocessed_Summaries[:3])"
   ]
  },
  {
   "cell_type": "markdown",
   "metadata": {},
   "source": [
    "<b> Storing the cleaned text and summary into columns</b>"
   ]
  },
  {
   "cell_type": "code",
   "execution_count": 71,
   "metadata": {},
   "outputs": [],
   "source": [
    "# creating other column for the cleaned data\n",
    "final['cleaned_Texts']=preprocessed_reviews\n",
    "final['cleaned_Summaries']=preprocessed_Summaries"
   ]
  },
  {
   "cell_type": "markdown",
   "metadata": {},
   "source": [
    "<b>Sort the data by time and get top 100k Records</b>"
   ]
  },
  {
   "cell_type": "code",
   "execution_count": 72,
   "metadata": {},
   "outputs": [],
   "source": [
    "final_sorted=final.sort_values(by='Time')[:100000]   # rest parameters are default"
   ]
  },
  {
   "cell_type": "markdown",
   "metadata": {},
   "source": [
    "<b>Important point </b>"
   ]
  },
  {
   "cell_type": "markdown",
   "metadata": {},
   "source": [
    "<p>\n",
    "We are doing 3 attempts here to apply the naive bayes model and improve using feature enginnering method.<br><br>\n",
    "\n",
    "<b>Attempt1:</b> Use review Text only and binarize it using bow (set1) and tfidf(set2) and solve the problem.<br>\n",
    "<b>Attempt2:</b> Use review Text only and binarize it using bow (set1) and tfidf(set2).Create two extra columns\n",
    "using the length of review texts and length of review summary.<br>\n",
    "<b>Attempt3:</b> Combine both preprocessed review texts and summaries and binarize it using bow (set1) and tfidf(set2).Create one extra column using the length of this combined review text and length of review summary.<br><br>\n",
    "\n",
    "We will tabulate the results and analyse if there was any improvement due to the feature enginnering we used. <br>\n",
    "Attempt 3 is not expected in the assignment. So please ignore if this doesnot sound good to you.<br>\n",
    "</p>"
   ]
  },
  {
   "cell_type": "markdown",
   "metadata": {},
   "source": [
    "<h1>Important Functions</h1>"
   ]
  },
  {
   "cell_type": "code",
   "execution_count": 73,
   "metadata": {},
   "outputs": [],
   "source": [
    "def vectorize_standardarize_data(vectorizing_model,train,test):\n",
    "    '''\n",
    "    This function takes vectorizing models such as tfidf vectorizer and bow count vectorizer, train and test text data.\n",
    "    It performs the stanadarization of train and test data.\n",
    "    Returns: vectorized and standarized train and test datasets.    \n",
    "    '''\n",
    "    \n",
    "    train=vectorizing_model.fit_transform(train)\n",
    "    test=vectorizing_model.transform(test)\n",
    "\n",
    "    scalar=StandardScaler(with_mean=False)\n",
    "    train=scalar.fit_transform(train)\n",
    "    test=scalar.transform(test)\n",
    "\n",
    "    return train,test\n",
    "\n",
    "   \n",
    "def plot_auc_vs_hyperpameter(param_grid,grid):\n",
    "    '''\n",
    "    This function plots the variation of auc of roc for train and cv data using Grid Search.\n",
    "    Returns : optimal number of neighbours\n",
    "    '''\n",
    "    plt.close()\n",
    "    plt.plot(np.log10(param_grid['alpha']),grid.cv_results_['mean_test_score'],label='Validation AUC')\n",
    "    plt.plot(np.log10(param_grid['alpha']),grid.cv_results_['mean_train_score'],label='Train AUC')\n",
    "    \n",
    "    plt.xlabel('Log of alpha')\n",
    "    plt.ylabel('Area under ROC Curve')\n",
    "    plt.title('Area under ROC curve V/S Log of Hyper Parameter for CV and train datasets')\n",
    "    plt.legend()\n",
    "    plt.grid()\n",
    "    plt.show()\n",
    "    plt.close()\n",
    "    \n",
    "    optimal_alpha=grid.best_params_['alpha']        \n",
    "    \n",
    "    return optimal_alpha\n",
    "\n",
    "\n",
    "def plot_roc_curve(train_x,train_y,test_x,test_y,estimator):\n",
    "    '''\n",
    "    This curve takes train and test datasets, estimator to plot roc curves for train \n",
    "    and test datasets. Please initialize the estimator with necessary parameters before calling this function.\n",
    "    Returns: a dictionary \"auc_and_Ypred\" containing test data auc and predicted test scores.\n",
    "    '''\n",
    "    plt.close()\n",
    "    estimator.fit(train_x,train_y)\n",
    "    \n",
    "    test_y_pred_prob_score=estimator.predict_proba(test_x)[:,1]\n",
    "    fpr_test,tpr_test,thresholds_test=roc_curve(test_y,test_y_pred_prob_score)\n",
    "    \n",
    "\n",
    "    test_y_pred=estimator.predict(test_x)    \n",
    "    train_y_pred=estimator.predict(train_x)\n",
    "    \n",
    "    plt.plot(fpr_test,tpr_test,'r',label='TEST')\n",
    "    \n",
    "    train_y_pred_prob_score=estimator.predict_proba(train_x)[:,1]\n",
    "    fpr_train,tpr_train,thresholds_train=roc_curve(train_y,train_y_pred_prob_score)\n",
    "    plt.plot(fpr_train,tpr_train,'b',label='TRAIN')\n",
    "    \n",
    "    # print auc for roc for test\n",
    "    print('ROC AUC for test data',roc_auc_score(test_y,test_y_pred_prob_score)) \n",
    "    \n",
    "   \n",
    "    # plot roc curve\n",
    "    plt.plot([0,1],[0,1],'k')\n",
    "    \n",
    "    plt.title('ROC for TRAIN and TEST data')\n",
    "    plt.xlabel('FPR')\n",
    "    plt.ylabel('TPR')\n",
    "    plt.grid()\n",
    "    plt.legend()\n",
    "    plt.show() \n",
    "    \n",
    "    best_auc=roc_auc_score(test_y,test_y_pred_prob_score)\n",
    "    auc_and_Ypred={}\n",
    "    auc_and_Ypred['best_auc']=best_auc\n",
    "    auc_and_Ypred['y_pred_test']=test_y_pred\n",
    "    auc_and_Ypred['y_pred_train']=train_y_pred\n",
    "      \n",
    "    return auc_and_Ypred\n",
    "  \n",
    "    \n",
    "def plot_confusion_matrix(y,y_pred,dataset_type):\n",
    "    '''\n",
    "    This function takes test class labels and predicted class labels and plots confusion matrix.\n",
    "    dataset_type parameter can take two values \"Train\" and \"Test\".\n",
    "    '''\n",
    "\n",
    "    cm=confusion_matrix(y,y_pred)\n",
    "    \n",
    "    label=pd.DataFrame(cm)\n",
    "    label.iloc[0,0]='TN={}'.format(label.iloc[0,0])\n",
    "    label.iloc[0,1]='FN={}'.format(label.iloc[0,1])\n",
    "    label.iloc[1,0]='FP={}'.format(label.iloc[1,0])\n",
    "    label.iloc[1,1]='TP={}'.format(label.iloc[1,1])\n",
    "    \n",
    "    plt.close()\n",
    "    plt.figure(figsize=(6,4))   \n",
    "\n",
    "    sns.heatmap(cm,xticklabels=['Negative','Positive'],yticklabels=['Negative','Positive'],\n",
    "                cmap='Dark2',annot=label,linewidths=1,linecolor='black',fmt='s')\n",
    "    \n",
    "    plt.xlabel('Actual')\n",
    "    plt.ylabel('Predicted')\n",
    "    plt.title('Confusion Matrix for ' + dataset_type + ' data')\n",
    "    plt.show()  \n"
   ]
  },
  {
   "cell_type": "code",
   "execution_count": null,
   "metadata": {},
   "outputs": [],
   "source": []
  },
  {
   "cell_type": "markdown",
   "metadata": {},
   "source": [
    "<b> setting up vars and initiaizing the classifiers. </b>"
   ]
  },
  {
   "cell_type": "code",
   "execution_count": 74,
   "metadata": {},
   "outputs": [],
   "source": [
    "\n",
    "# range of neighbors\n",
    "param_grid={'alpha':[10**-4,10**-3,10**-2,10**-1,1,10**1,10**2,10**3,10**4]}         \n",
    "\n",
    "# Initiliaze the multinomial bayes model\n",
    "mnb=MultinomialNB(fit_prior=True)    # fit_prior=True to learn the probabilities of each classes and predict accordingly.\n",
    "\n",
    "# gridcv brute force model\n",
    "grid=GridSearchCV(mnb,param_grid,scoring='roc_auc')\n"
   ]
  },
  {
   "cell_type": "code",
   "execution_count": 97,
   "metadata": {},
   "outputs": [
    {
     "data": {
      "text/plain": [
       "array([-4., -3., -2., -1.,  0.,  1.,  2.,  3.,  4.])"
      ]
     },
     "execution_count": 97,
     "metadata": {},
     "output_type": "execute_result"
    }
   ],
   "source": [
    "np.log10(param_grid['alpha'])"
   ]
  },
  {
   "cell_type": "markdown",
   "metadata": {},
   "source": [
    "<b>split the data into train and test</b>"
   ]
  },
  {
   "cell_type": "code",
   "execution_count": 75,
   "metadata": {},
   "outputs": [
    {
     "name": "stdout",
     "output_type": "stream",
     "text": [
      "train_x shape: (70000, 2) \n",
      " test_x shape: (30000, 2) \n",
      " train_y shape: (70000,) \n",
      " test_y shape: (30000,)\n"
     ]
    }
   ],
   "source": [
    "train_x,test_x,train_y, test_y=train_test_split(final_sorted[['cleaned_Texts','cleaned_Summaries']],final_sorted['Score'],test_size=0.3)\n",
    "\n",
    "print('train_x shape:',train_x.shape,'\\n','test_x shape:',test_x.shape,'\\n','train_y shape:',train_y.shape,'\\n','test_y shape:',test_y.shape)"
   ]
  },
  {
   "cell_type": "markdown",
   "metadata": {
    "colab_type": "text",
    "id": "ChHwtw1iJkky"
   },
   "source": [
    "# [4] Featurization"
   ]
  },
  {
   "cell_type": "markdown",
   "metadata": {
    "colab_type": "text",
    "id": "qyWESNvzJkky"
   },
   "source": [
    "## [4.1] BAG OF WORDS"
   ]
  },
  {
   "cell_type": "markdown",
   "metadata": {},
   "source": [
    "<b>Vectorize the data using BOW</b>"
   ]
  },
  {
   "cell_type": "code",
   "execution_count": 76,
   "metadata": {
    "colab": {},
    "colab_type": "code",
    "id": "zS0niozAJkkz",
    "outputId": "e2a25e5d-2e1a-497a-f094-a7e249201001"
   },
   "outputs": [
    {
     "name": "stdout",
     "output_type": "stream",
     "text": [
      "the type of train and test vectorizer  <class 'scipy.sparse.csr.csr_matrix'> <class 'scipy.sparse.csr.csr_matrix'>\n",
      "the shape of train and test vectorizer  (70000, 500) (30000, 500)\n",
      "the number of unique words in train and test 500 500\n"
     ]
    }
   ],
   "source": [
    "#BoW\n",
    "\n",
    "set1_count_vect=CountVectorizer(max_features=500,dtype='float64')           #\n",
    "set1_x, set1_x_test = vectorize_standardarize_data(set1_count_vect,train_x['cleaned_Texts'],test_x['cleaned_Texts'])\n",
    "\n",
    "print(\"the type of train and test vectorizer \",type(set1_x),type(set1_x_test))\n",
    "print(\"the shape of train and test vectorizer \",set1_x.get_shape(),set1_x_test.get_shape())\n",
    "print(\"the number of unique words in train and test\", set1_x.get_shape()[1],set1_x_test.get_shape()[1])"
   ]
  },
  {
   "cell_type": "markdown",
   "metadata": {
    "colab_type": "text",
    "id": "LChtHtLjJkk1"
   },
   "source": [
    "## [4.2] Bi-Grams and n-Grams."
   ]
  },
  {
   "cell_type": "code",
   "execution_count": 81,
   "metadata": {
    "colab": {},
    "colab_type": "code",
    "id": "Xgw2pSsoJkk3",
    "outputId": "bfcb230d-1f75-413a-e30d-c2aae84cd5c0"
   },
   "outputs": [
    {
     "name": "stdout",
     "output_type": "stream",
     "text": [
      "the type of count vectorizer  <class 'scipy.sparse.csr.csr_matrix'>\n",
      "the shape of out text BOW vectorizer  (364171, 5000)\n",
      "the number of unique words including both unigrams and bigrams  5000\n"
     ]
    }
   ],
   "source": [
    "#bi-gram, tri-gram and n-gram\n",
    "\n",
    "#removing stop words like \"not\" should be avoided before building n-grams\n",
    "# count_vect = CountVectorizer(ngram_range=(1,2))\n",
    "# please do read the CountVectorizer documentation http://scikit-learn.org/stable/modules/generated/sklearn.feature_extraction.text.CountVectorizer.html\n",
    "\n",
    "# you can choose these numebrs min_df=10, max_features=5000, of your choice\n",
    "count_vect = CountVectorizer(ngram_range=(1,2), min_df=10, max_features=5000)\n",
    "final_bigram_counts = count_vect.fit_transform(preprocessed_reviews)\n",
    "print(\"the type of count vectorizer \",type(final_bigram_counts))\n",
    "print(\"the shape of out text BOW vectorizer \",final_bigram_counts.get_shape())\n",
    "print(\"the number of unique words including both unigrams and bigrams \", final_bigram_counts.get_shape()[1])"
   ]
  },
  {
   "cell_type": "markdown",
   "metadata": {
    "colab_type": "text",
    "id": "1fvAmu91Jkk6"
   },
   "source": [
    "## [4.3] TF-IDF"
   ]
  },
  {
   "cell_type": "markdown",
   "metadata": {},
   "source": [
    "<b>vectorize the data using TFIDF</b>"
   ]
  },
  {
   "cell_type": "code",
   "execution_count": 77,
   "metadata": {
    "colab": {},
    "colab_type": "code",
    "id": "ag5-WCR8Jkk7",
    "outputId": "94a8ddc3-4bb7-4c49-d4e7-ed98560633b6"
   },
   "outputs": [
    {
     "name": "stdout",
     "output_type": "stream",
     "text": [
      "the type of train and test vectorizer  <class 'scipy.sparse.csr.csr_matrix'> <class 'scipy.sparse.csr.csr_matrix'>\n",
      "the shape of train and test vectorizer  (70000, 500) (30000, 500)\n",
      "the number of unique words in train and test 500 500\n"
     ]
    }
   ],
   "source": [
    "#TFIDF\n",
    "set2_tfidf_vect=TfidfVectorizer(max_features=500,dtype='float64',ngram_range=(1,2))\n",
    "set2_x, set2_x_test = vectorize_standardarize_data(set2_tfidf_vect,train_x['cleaned_Texts'],test_x['cleaned_Texts'])\n",
    "\n",
    "\n",
    "print(\"the type of train and test vectorizer \",type(set2_x),type(set2_x_test))\n",
    "print(\"the shape of train and test vectorizer \",set2_x.get_shape(),set2_x_test.get_shape())\n",
    "print(\"the number of unique words in train and test\", set2_x.get_shape()[1],set2_x_test.get_shape()[1])\n"
   ]
  },
  {
   "cell_type": "markdown",
   "metadata": {
    "colab_type": "text",
    "id": "ZFN0k_hEJklb"
   },
   "source": [
    "# [5] Assignment 4: Apply Naive Bayes"
   ]
  },
  {
   "cell_type": "markdown",
   "metadata": {
    "colab_type": "text",
    "id": "O1ABSoejJklc"
   },
   "source": [
    "<ol>\n",
    "    <li><strong>Apply Multinomial NaiveBayes on these feature sets</strong>\n",
    "        <ul>\n",
    "            <li><font color='red'>SET 1:</font>Review text, preprocessed one converted into vectors using (BOW)</li>\n",
    "            <li><font color='red'>SET 2:</font>Review text, preprocessed one converted into vectors using (TFIDF)</li>\n",
    "        </ul>\n",
    "    </li>\n",
    "    <br>\n",
    "    <li><strong>The hyper paramter tuning(find best Alpha)</strong>\n",
    "        <ul>\n",
    "    <li>Find the best hyper parameter which will give the maximum <a href='https://www.appliedaicourse.com/course/applied-ai-course-online/lessons/receiver-operating-characteristic-curve-roc-curve-and-auc-1/'>AUC</a> value</li>\n",
    "    <li>Consider a wide range of alpha values for hyperparameter tuning, start as low as 0.00001</li>\n",
    "    <li>Find the best hyper paramter using k-fold cross validation or simple cross validation data</li>\n",
    "    <li>Use gridsearch cv or randomsearch cv or you can also write your own for loops to do this task of hyperparameter tuning</li>\n",
    "        </ul>\n",
    "    </li>\n",
    "    <br>\n",
    "    <li><strong>Feature importance</strong>\n",
    "        <ul>\n",
    "    <li>Find the top 10 features of positive class and top 10 features of negative class for both feature sets <font color='red'>Set 1</font> and <font color='red'>Set 2</font> using values of `feature_log_prob_` parameter of  <a href='https://scikit-learn.org/stable/modules/generated/sklearn.naive_bayes.MultinomialNB.html'>MultinomialNB</a> and print their corresponding feature names</li>\n",
    "        </ul>\n",
    "    </li>\n",
    "    <br>\n",
    "    <li><strong>Feature engineering</strong>\n",
    "        <ul>\n",
    "    <li>To increase the performance of your model, you can also experiment with with feature engineering like :</li>\n",
    "            <ul>\n",
    "            <li>Taking length of reviews as another feature.</li>\n",
    "            <li>Considering some features from review summary as well.</li>\n",
    "        </ul>\n",
    "        </ul>\n",
    "    </li>\n",
    "    <br>\n",
    "    <li><strong>Representation of results</strong>\n",
    "        <ul>\n",
    "    <li>You need to plot the performance of model both on train data and cross validation data for each hyper parameter, like shown in the figure. Here on X-axis you will have alpha values, since they have a wide range, just to represent those alpha values on the graph, apply log function on those alpha values.\n",
    "    <img src='train_cv_auc.JPG' width=300px></li>\n",
    "    <li>Once after you found the best hyper parameter, you need to train your model with it, and find the AUC on test data and plot the ROC curve on both train and test.\n",
    "    <img src='train_test_auc.JPG' width=300px></li>\n",
    "    <li>Along with plotting ROC curve, you need to print the <a href='https://www.appliedaicourse.com/course/applied-ai-course-online/lessons/confusion-matrix-tpr-fpr-fnr-tnr-1/'>confusion matrix</a> with predicted and original labels of test data points. Please visualize your confusion matrices using <a href='https://seaborn.pydata.org/generated/seaborn.heatmap.html'>seaborn heatmaps.\n",
    "    <img src='confusion_matrix.png' width=300px></li>\n",
    "        </ul>\n",
    "    </li>\n",
    "    <br>\n",
    "    <li><strong>Conclusion</strong>\n",
    "        <ul>\n",
    "    <li>You need to summarize the results at the end of the notebook, summarize it in the table format. To print out a table please refer to this prettytable library<a href='http://zetcode.com/python/prettytable/'>  link</a> \n",
    "        <img src='summary.JPG' width=400px>\n",
    "    </li>\n",
    "        </ul>\n",
    "</ol>"
   ]
  },
  {
   "cell_type": "markdown",
   "metadata": {
    "colab_type": "text",
    "id": "YawkDx8TJklc"
   },
   "source": [
    "<h4><font color='red'>Note: Data Leakage</font></h4>\n",
    "\n",
    "1. There will be an issue of data-leakage if you vectorize the entire data and then split it into train/cv/test.\n",
    "2. To avoid the issue of data-leakag, make sure to split your data first and then vectorize it. \n",
    "3. While vectorizing your data, apply the method fit_transform() on you train data, and apply the method transform() on cv/test data.\n",
    "4. For more details please go through this <a href='https://soundcloud.com/applied-ai-course/leakage-bow-and-tfidf'>link.</a>"
   ]
  },
  {
   "cell_type": "markdown",
   "metadata": {},
   "source": [
    "<h1>Attempt1: Binarize and standardize only review texts using bow (set1) and tfidf(set2).</h1>"
   ]
  },
  {
   "cell_type": "markdown",
   "metadata": {
    "colab_type": "text",
    "id": "RGRFxjhgJklc"
   },
   "source": [
    "# Applying Multinomial Naive Bayes"
   ]
  },
  {
   "cell_type": "markdown",
   "metadata": {
    "colab_type": "text",
    "id": "FxGKHpZlJkle"
   },
   "source": [
    "## [5.1] Applying Naive Bayes on BOW,<font color='red'> SET 1</font>"
   ]
  },
  {
   "cell_type": "markdown",
   "metadata": {},
   "source": [
    "<b> Plot Area under ROC curve V/S Alpha for train and cross validation data, ROC curve for train and test data, confusion matrix for set1(BOW) data.</b>"
   ]
  },
  {
   "cell_type": "code",
   "execution_count": 78,
   "metadata": {
    "colab": {},
    "colab_type": "code",
    "id": "UR0f8SfZJkle"
   },
   "outputs": [
    {
     "name": "stdout",
     "output_type": "stream",
     "text": [
      "---------------------- BOW--------------------------\n"
     ]
    },
    {
     "data": {
      "image/png": "[encoded data removed]",
      "text/plain": [
       "<Figure size 432x288 with 1 Axes>"
      ]
     },
     "metadata": {},
     "output_type": "display_data"
    },
    {
     "name": "stdout",
     "output_type": "stream",
     "text": [
      "ROC AUC for test data 0.865500230445388\n"
     ]
    },
    {
     "data": {
      "image/png": "[encoded data removed]",
      "text/plain": [
       "<Figure size 432x288 with 1 Axes>"
      ]
     },
     "metadata": {},
     "output_type": "display_data"
    },
    {
     "data": {
      "image/png": "[encoded data removed]",
      "text/plain": [
       "<Figure size 432x288 with 2 Axes>"
      ]
     },
     "metadata": {},
     "output_type": "display_data"
    },
    {
     "data": {
      "image/png": "[encoded data removed]",
      "text/plain": [
       "<Figure size 432x288 with 2 Axes>"
      ]
     },
     "metadata": {},
     "output_type": "display_data"
    },
    {
     "name": "stdout",
     "output_type": "stream",
     "text": [
      "set1_optimal_alpha: 100 set1_best_auc: 0.865500230445388\n"
     ]
    }
   ],
   "source": [
    "# Please write all the code with proper documentation\n",
    "\n",
    "#######\n",
    "# BOW #\n",
    "#######\n",
    "\n",
    "print('---------------------- BOW--------------------------')\n",
    "\n",
    "# train the grid and find optimal number of neighbors\n",
    "grid.fit(set1_x,train_y)    \n",
    "set1_optimal_alpha=plot_auc_vs_hyperpameter(param_grid,grid)\n",
    "\n",
    "# train knn with optimal number of neighbors\n",
    "set1_clf=MultinomialNB(fit_prior=True,alpha=set1_optimal_alpha)\n",
    "\n",
    "# find the test dataset roc auc and predicted class labels\n",
    "set1_auc_and_Ypred=plot_roc_curve(set1_x,train_y,set1_x_test,test_y,set1_clf)\n",
    "\n",
    "# plot confusion matrix for train data\n",
    "plot_confusion_matrix(train_y,set1_auc_and_Ypred['y_pred_train'],dataset_type='Train')\n",
    "\n",
    "\n",
    "# plot confusion matrix for test data\n",
    "plot_confusion_matrix(test_y,set1_auc_and_Ypred['y_pred_test'],dataset_type='Test')\n",
    "\n",
    "# Store the set1 results\n",
    "print('set1_optimal_alpha:',set1_optimal_alpha,'set1_best_auc:',set1_auc_and_Ypred['best_auc'])\n",
    "set1_result=['BOW','Naive Bayes:Attempt1',set1_optimal_alpha,set1_auc_and_Ypred['best_auc']]\n"
   ]
  },
  {
   "cell_type": "markdown",
   "metadata": {
    "colab_type": "text",
    "id": "u-ZSD3tlJklg"
   },
   "source": [
    "### [5.1.1] Top 10 important features of positive class from<font color='red'> SET 1</font>"
   ]
  },
  {
   "cell_type": "markdown",
   "metadata": {},
   "source": [
    "<b>From Naive Bayes model we will get coef_ and from BOW vectorizer we will get feature names. Using these two we find top 10 positive and negative class important features.</b>"
   ]
  },
  {
   "cell_type": "code",
   "execution_count": 79,
   "metadata": {
    "colab": {},
    "colab_type": "code",
    "id": "86fu_aO8Jklg"
   },
   "outputs": [
    {
     "data": {
      "text/html": [
       "<div>\n",
       "<style scoped>\n",
       "    .dataframe tbody tr th:only-of-type {\n",
       "        vertical-align: middle;\n",
       "    }\n",
       "\n",
       "    .dataframe tbody tr th {\n",
       "        vertical-align: top;\n",
       "    }\n",
       "\n",
       "    .dataframe thead th {\n",
       "        text-align: right;\n",
       "    }\n",
       "</style>\n",
       "<table border=\"1\" class=\"dataframe\">\n",
       "  <thead>\n",
       "    <tr style=\"text-align: right;\">\n",
       "      <th></th>\n",
       "      <th>feature</th>\n",
       "      <th>log_probability</th>\n",
       "    </tr>\n",
       "  </thead>\n",
       "  <tbody>\n",
       "    <tr>\n",
       "      <th>350</th>\n",
       "      <td>product</td>\n",
       "      <td>-5.37978</td>\n",
       "    </tr>\n",
       "    <tr>\n",
       "      <th>175</th>\n",
       "      <td>flavor</td>\n",
       "      <td>-5.3314</td>\n",
       "    </tr>\n",
       "    <tr>\n",
       "      <th>39</th>\n",
       "      <td>best</td>\n",
       "      <td>-5.31989</td>\n",
       "    </tr>\n",
       "    <tr>\n",
       "      <th>435</th>\n",
       "      <td>taste</td>\n",
       "      <td>-5.27855</td>\n",
       "    </tr>\n",
       "    <tr>\n",
       "      <th>311</th>\n",
       "      <td>one</td>\n",
       "      <td>-5.26239</td>\n",
       "    </tr>\n",
       "    <tr>\n",
       "      <th>264</th>\n",
       "      <td>love</td>\n",
       "      <td>-5.22279</td>\n",
       "    </tr>\n",
       "    <tr>\n",
       "      <th>251</th>\n",
       "      <td>like</td>\n",
       "      <td>-5.12307</td>\n",
       "    </tr>\n",
       "    <tr>\n",
       "      <th>203</th>\n",
       "      <td>good</td>\n",
       "      <td>-5.04196</td>\n",
       "    </tr>\n",
       "    <tr>\n",
       "      <th>206</th>\n",
       "      <td>great</td>\n",
       "      <td>-4.9732</td>\n",
       "    </tr>\n",
       "    <tr>\n",
       "      <th>303</th>\n",
       "      <td>not</td>\n",
       "      <td>-4.86348</td>\n",
       "    </tr>\n",
       "  </tbody>\n",
       "</table>\n",
       "</div>"
      ],
      "text/plain": [
       "     feature log_probability\n",
       "350  product        -5.37978\n",
       "175   flavor         -5.3314\n",
       "39      best        -5.31989\n",
       "435    taste        -5.27855\n",
       "311      one        -5.26239\n",
       "264     love        -5.22279\n",
       "251     like        -5.12307\n",
       "203     good        -5.04196\n",
       "206    great         -4.9732\n",
       "303      not        -4.86348"
      ]
     },
     "execution_count": 79,
     "metadata": {},
     "output_type": "execute_result"
    }
   ],
   "source": [
    "# Please write all the code with proper documentation\n",
    "\n",
    "set1_feature_importance=pd.DataFrame([set1_count_vect.get_feature_names(),list(set1_clf.feature_log_prob_[1].ravel())],index=['feature','log_probability']).T\n",
    "\n",
    "set1_feature_importance.sort_values(by='log_probability')[-10:]  # Top 10 postive class features"
   ]
  },
  {
   "cell_type": "markdown",
   "metadata": {
    "colab_type": "text",
    "id": "mquFtwF5Jklj"
   },
   "source": [
    "### [5.1.2] Top 10 important features of negative class from<font color='red'> SET 1</font>"
   ]
  },
  {
   "cell_type": "code",
   "execution_count": 81,
   "metadata": {
    "colab": {},
    "colab_type": "code",
    "id": "_RacUnTrJklj"
   },
   "outputs": [
    {
     "data": {
      "text/html": [
       "<div>\n",
       "<style scoped>\n",
       "    .dataframe tbody tr th:only-of-type {\n",
       "        vertical-align: middle;\n",
       "    }\n",
       "\n",
       "    .dataframe tbody tr th {\n",
       "        vertical-align: top;\n",
       "    }\n",
       "\n",
       "    .dataframe thead th {\n",
       "        text-align: right;\n",
       "    }\n",
       "</style>\n",
       "<table border=\"1\" class=\"dataframe\">\n",
       "  <thead>\n",
       "    <tr style=\"text-align: right;\">\n",
       "      <th></th>\n",
       "      <th>feature</th>\n",
       "      <th>log_probability</th>\n",
       "    </tr>\n",
       "  </thead>\n",
       "  <tbody>\n",
       "    <tr>\n",
       "      <th>300</th>\n",
       "      <td>no</td>\n",
       "      <td>-5.20664</td>\n",
       "    </tr>\n",
       "    <tr>\n",
       "      <th>30</th>\n",
       "      <td>bad</td>\n",
       "      <td>-5.17318</td>\n",
       "    </tr>\n",
       "    <tr>\n",
       "      <th>127</th>\n",
       "      <td>disappointed</td>\n",
       "      <td>-5.1518</td>\n",
       "    </tr>\n",
       "    <tr>\n",
       "      <th>286</th>\n",
       "      <td>money</td>\n",
       "      <td>-5.14516</td>\n",
       "    </tr>\n",
       "    <tr>\n",
       "      <th>311</th>\n",
       "      <td>one</td>\n",
       "      <td>-5.14122</td>\n",
       "    </tr>\n",
       "    <tr>\n",
       "      <th>435</th>\n",
       "      <td>taste</td>\n",
       "      <td>-4.95511</td>\n",
       "    </tr>\n",
       "    <tr>\n",
       "      <th>251</th>\n",
       "      <td>like</td>\n",
       "      <td>-4.93807</td>\n",
       "    </tr>\n",
       "    <tr>\n",
       "      <th>350</th>\n",
       "      <td>product</td>\n",
       "      <td>-4.91214</td>\n",
       "    </tr>\n",
       "    <tr>\n",
       "      <th>493</th>\n",
       "      <td>would</td>\n",
       "      <td>-4.85871</td>\n",
       "    </tr>\n",
       "    <tr>\n",
       "      <th>303</th>\n",
       "      <td>not</td>\n",
       "      <td>-4.34541</td>\n",
       "    </tr>\n",
       "  </tbody>\n",
       "</table>\n",
       "</div>"
      ],
      "text/plain": [
       "          feature log_probability\n",
       "300            no        -5.20664\n",
       "30            bad        -5.17318\n",
       "127  disappointed         -5.1518\n",
       "286         money        -5.14516\n",
       "311           one        -5.14122\n",
       "435         taste        -4.95511\n",
       "251          like        -4.93807\n",
       "350       product        -4.91214\n",
       "493         would        -4.85871\n",
       "303           not        -4.34541"
      ]
     },
     "execution_count": 81,
     "metadata": {},
     "output_type": "execute_result"
    }
   ],
   "source": [
    "# Please write all the code with proper documentation\n",
    "\n",
    "set1_feature_importance=pd.DataFrame([set1_count_vect.get_feature_names(),list(set1_clf.feature_log_prob_[0].ravel())],index=['feature','log_probability']).T\n",
    "\n",
    "set1_feature_importance.sort_values(by='log_probability')[-10:]  # Top 10 negative class features"
   ]
  },
  {
   "cell_type": "markdown",
   "metadata": {
    "colab_type": "text",
    "id": "6bp7BbwCJkll"
   },
   "source": [
    "## [5.2] Applying Naive Bayes on TFIDF,<font color='red'> SET 2</font>"
   ]
  },
  {
   "cell_type": "markdown",
   "metadata": {},
   "source": [
    "<b> Plot Area under ROC curve V/S Alpha for train and cross validation data, ROC curve for train and test data, confusion matrix for set2(TFIDF) data.</b>"
   ]
  },
  {
   "cell_type": "code",
   "execution_count": 83,
   "metadata": {
    "colab": {},
    "colab_type": "code",
    "id": "oL29fzPFJkll"
   },
   "outputs": [
    {
     "name": "stdout",
     "output_type": "stream",
     "text": [
      "--------------- TFIDF-------------------\n"
     ]
    },
    {
     "data": {
      "image/png": "[encoded data removed]",
      "text/plain": [
       "<Figure size 432x288 with 1 Axes>"
      ]
     },
     "metadata": {},
     "output_type": "display_data"
    },
    {
     "name": "stdout",
     "output_type": "stream",
     "text": [
      "ROC AUC for test data 0.8787793707266434\n"
     ]
    },
    {
     "data": {
      "image/png": "[encoded data removed]",
      "text/plain": [
       "<Figure size 432x288 with 1 Axes>"
      ]
     },
     "metadata": {},
     "output_type": "display_data"
    },
    {
     "data": {
      "image/png": "[encoded data removed]",
      "text/plain": [
       "<Figure size 432x288 with 2 Axes>"
      ]
     },
     "metadata": {},
     "output_type": "display_data"
    },
    {
     "data": {
      "image/png": "[encoded data removed]",
      "text/plain": [
       "<Figure size 432x288 with 2 Axes>"
      ]
     },
     "metadata": {},
     "output_type": "display_data"
    },
    {
     "name": "stdout",
     "output_type": "stream",
     "text": [
      "set2_optimal_alpha: 100 set2_best_auc: 0.8787793707266434\n"
     ]
    }
   ],
   "source": [
    "# Please write all the code with proper documentation\n",
    "\n",
    "########\n",
    "# TFIDF#\n",
    "########\n",
    "\n",
    "print('--------------- TFIDF-------------------')\n",
    "\n",
    "# train the grid and find optimal number of neighbors\n",
    "grid.fit(set2_x,train_y)\n",
    "set2_optimal_alpha=plot_auc_vs_hyperpameter(param_grid,grid)\n",
    "\n",
    "# train knn with optimal number of neighbors\n",
    "set2_clf=MultinomialNB(fit_prior=True,alpha=set2_optimal_alpha)\n",
    "\n",
    "# find the test dataset roc auc and predicted class labels\n",
    "set2_auc_and_Ypred=plot_roc_curve(set2_x,train_y,set2_x_test,test_y,set2_clf)\n",
    "\n",
    "# plot confusion matrix for train data\n",
    "plot_confusion_matrix(train_y,set2_auc_and_Ypred['y_pred_train'],dataset_type='Train')\n",
    "\n",
    "\n",
    "# plot confusion matrix for test data\n",
    "plot_confusion_matrix(test_y,set2_auc_and_Ypred['y_pred_test'],dataset_type='Test')\n",
    "\n",
    "# store the set2 results\n",
    "print('set2_optimal_alpha:',set2_optimal_alpha,'set2_best_auc:',set2_auc_and_Ypred['best_auc'])\n",
    "set2_result=['TFIDF','Naive Bayes:Attempt1',set2_optimal_alpha,set2_auc_and_Ypred['best_auc']]\n"
   ]
  },
  {
   "cell_type": "markdown",
   "metadata": {
    "colab_type": "text",
    "id": "Dtpj7iMSJkln"
   },
   "source": [
    "### [5.2.1] Top 10 important features of positive class from<font color='red'> SET 2</font>"
   ]
  },
  {
   "cell_type": "markdown",
   "metadata": {},
   "source": [
    "<b> From Naive Bayes model we will get coef_ and from TFIDF vectorizer we will get feature names. Using these two we find top 10 positive and negative class important features.</b>"
   ]
  },
  {
   "cell_type": "code",
   "execution_count": 84,
   "metadata": {
    "colab": {},
    "colab_type": "code",
    "id": "g3flcTmmJklo"
   },
   "outputs": [
    {
     "data": {
      "text/html": [
       "<div>\n",
       "<style scoped>\n",
       "    .dataframe tbody tr th:only-of-type {\n",
       "        vertical-align: middle;\n",
       "    }\n",
       "\n",
       "    .dataframe tbody tr th {\n",
       "        vertical-align: top;\n",
       "    }\n",
       "\n",
       "    .dataframe thead th {\n",
       "        text-align: right;\n",
       "    }\n",
       "</style>\n",
       "<table border=\"1\" class=\"dataframe\">\n",
       "  <thead>\n",
       "    <tr style=\"text-align: right;\">\n",
       "      <th></th>\n",
       "      <th>feature</th>\n",
       "      <th>log_probability</th>\n",
       "    </tr>\n",
       "  </thead>\n",
       "  <tbody>\n",
       "    <tr>\n",
       "      <th>36</th>\n",
       "      <td>best</td>\n",
       "      <td>-5.3582</td>\n",
       "    </tr>\n",
       "    <tr>\n",
       "      <th>349</th>\n",
       "      <td>product</td>\n",
       "      <td>-5.34298</td>\n",
       "    </tr>\n",
       "    <tr>\n",
       "      <th>167</th>\n",
       "      <td>flavor</td>\n",
       "      <td>-5.30987</td>\n",
       "    </tr>\n",
       "    <tr>\n",
       "      <th>434</th>\n",
       "      <td>taste</td>\n",
       "      <td>-5.25973</td>\n",
       "    </tr>\n",
       "    <tr>\n",
       "      <th>258</th>\n",
       "      <td>love</td>\n",
       "      <td>-5.24798</td>\n",
       "    </tr>\n",
       "    <tr>\n",
       "      <th>311</th>\n",
       "      <td>one</td>\n",
       "      <td>-5.24254</td>\n",
       "    </tr>\n",
       "    <tr>\n",
       "      <th>245</th>\n",
       "      <td>like</td>\n",
       "      <td>-5.09189</td>\n",
       "    </tr>\n",
       "    <tr>\n",
       "      <th>196</th>\n",
       "      <td>good</td>\n",
       "      <td>-5.06028</td>\n",
       "    </tr>\n",
       "    <tr>\n",
       "      <th>199</th>\n",
       "      <td>great</td>\n",
       "      <td>-5.01165</td>\n",
       "    </tr>\n",
       "    <tr>\n",
       "      <th>297</th>\n",
       "      <td>not</td>\n",
       "      <td>-4.7155</td>\n",
       "    </tr>\n",
       "  </tbody>\n",
       "</table>\n",
       "</div>"
      ],
      "text/plain": [
       "     feature log_probability\n",
       "36      best         -5.3582\n",
       "349  product        -5.34298\n",
       "167   flavor        -5.30987\n",
       "434    taste        -5.25973\n",
       "258     love        -5.24798\n",
       "311      one        -5.24254\n",
       "245     like        -5.09189\n",
       "196     good        -5.06028\n",
       "199    great        -5.01165\n",
       "297      not         -4.7155"
      ]
     },
     "execution_count": 84,
     "metadata": {},
     "output_type": "execute_result"
    }
   ],
   "source": [
    "# Please write all the code with proper documentation\n",
    "\n",
    "set2_feature_importance=pd.DataFrame([set2_tfidf_vect.get_feature_names(),list(set2_clf.feature_log_prob_[1].ravel())],index=['feature','log_probability']).T\n",
    "\n",
    "set2_feature_importance.sort_values(by='log_probability')[-10:]  # Top 10 postive class features"
   ]
  },
  {
   "cell_type": "markdown",
   "metadata": {
    "colab_type": "text",
    "id": "UovIVRyEJklq"
   },
   "source": [
    "### [5.2.2] Top 10 important features of negative class from<font color='red'> SET 2</font>"
   ]
  },
  {
   "cell_type": "code",
   "execution_count": 86,
   "metadata": {
    "colab": {},
    "colab_type": "code",
    "id": "i3i3cShuJklr"
   },
   "outputs": [
    {
     "data": {
      "text/html": [
       "<div>\n",
       "<style scoped>\n",
       "    .dataframe tbody tr th:only-of-type {\n",
       "        vertical-align: middle;\n",
       "    }\n",
       "\n",
       "    .dataframe tbody tr th {\n",
       "        vertical-align: top;\n",
       "    }\n",
       "\n",
       "    .dataframe thead th {\n",
       "        text-align: right;\n",
       "    }\n",
       "</style>\n",
       "<table border=\"1\" class=\"dataframe\">\n",
       "  <thead>\n",
       "    <tr style=\"text-align: right;\">\n",
       "      <th></th>\n",
       "      <th>feature</th>\n",
       "      <th>log_probability</th>\n",
       "    </tr>\n",
       "  </thead>\n",
       "  <tbody>\n",
       "    <tr>\n",
       "      <th>27</th>\n",
       "      <td>bad</td>\n",
       "      <td>-5.14842</td>\n",
       "    </tr>\n",
       "    <tr>\n",
       "      <th>120</th>\n",
       "      <td>disappointed</td>\n",
       "      <td>-5.14535</td>\n",
       "    </tr>\n",
       "    <tr>\n",
       "      <th>279</th>\n",
       "      <td>money</td>\n",
       "      <td>-5.14237</td>\n",
       "    </tr>\n",
       "    <tr>\n",
       "      <th>494</th>\n",
       "      <td>would not</td>\n",
       "      <td>-5.12412</td>\n",
       "    </tr>\n",
       "    <tr>\n",
       "      <th>311</th>\n",
       "      <td>one</td>\n",
       "      <td>-5.09382</td>\n",
       "    </tr>\n",
       "    <tr>\n",
       "      <th>349</th>\n",
       "      <td>product</td>\n",
       "      <td>-4.97562</td>\n",
       "    </tr>\n",
       "    <tr>\n",
       "      <th>434</th>\n",
       "      <td>taste</td>\n",
       "      <td>-4.92315</td>\n",
       "    </tr>\n",
       "    <tr>\n",
       "      <th>245</th>\n",
       "      <td>like</td>\n",
       "      <td>-4.87109</td>\n",
       "    </tr>\n",
       "    <tr>\n",
       "      <th>493</th>\n",
       "      <td>would</td>\n",
       "      <td>-4.79967</td>\n",
       "    </tr>\n",
       "    <tr>\n",
       "      <th>297</th>\n",
       "      <td>not</td>\n",
       "      <td>-4.10691</td>\n",
       "    </tr>\n",
       "  </tbody>\n",
       "</table>\n",
       "</div>"
      ],
      "text/plain": [
       "          feature log_probability\n",
       "27            bad        -5.14842\n",
       "120  disappointed        -5.14535\n",
       "279         money        -5.14237\n",
       "494     would not        -5.12412\n",
       "311           one        -5.09382\n",
       "349       product        -4.97562\n",
       "434         taste        -4.92315\n",
       "245          like        -4.87109\n",
       "493         would        -4.79967\n",
       "297           not        -4.10691"
      ]
     },
     "execution_count": 86,
     "metadata": {},
     "output_type": "execute_result"
    }
   ],
   "source": [
    "# Please write all the code with proper documentation\n",
    "\n",
    "set2_feature_importance=pd.DataFrame([set2_tfidf_vect.get_feature_names(),list(set2_clf.feature_log_prob_[0].ravel())],index=['feature','log_probability']).T\n",
    "\n",
    "set2_feature_importance.sort_values(by='log_probability')[-10:]  # Top 10 negative class features"
   ]
  },
  {
   "cell_type": "markdown",
   "metadata": {},
   "source": [
    "<b>Tabulate the result from attempt1</b>"
   ]
  },
  {
   "cell_type": "code",
   "execution_count": 88,
   "metadata": {},
   "outputs": [],
   "source": [
    "# Please compare all your models using Prettytable library\n",
    "table=PrettyTable(field_names=['Vectorizer','Model','HyperParameter','AUC'])\n",
    "\n",
    "#We will use set1 and set2 for Naive Bayes implementations for BOW and TFIDF respectively.\n",
    "\n",
    "table.add_row(set1_result)\n",
    "table.add_row(set2_result)"
   ]
  },
  {
   "cell_type": "markdown",
   "metadata": {},
   "source": [
    "<h1>Attempt2: Use review Text only and binarize it using bow (set1) and tfidf(set2).Create two extra columns using the length of review texts and length of review summary.<h1>"
   ]
  },
  {
   "cell_type": "markdown",
   "metadata": {},
   "source": [
    "<b> We find the length of review summaries and review texts and standarize them. </b> "
   ]
  },
  {
   "cell_type": "code",
   "execution_count": 89,
   "metadata": {},
   "outputs": [
    {
     "name": "stdout",
     "output_type": "stream",
     "text": [
      "train_x_text_summary_lengths: 70000 \n",
      " test_x_text_summary_lengths: 30000\n",
      "set1_x:  (70000, 500) \n",
      " set1_x_test: (30000, 500) \n",
      " set2_x: (70000, 500) \n",
      " set2_x_test: (30000, 500)\n"
     ]
    }
   ],
   "source": [
    "# find the lengths of review summary and review text columns and standarize them\n",
    "\n",
    "train_x_text_summary_lengths = [ [ len(text.split()), len(summary.split()) ] for text, summary in zip(train_x['cleaned_Texts'],train_x['cleaned_Summaries']) ]\n",
    "\n",
    "test_x_text_summary_lengths = [ [ len(text.split()), len(summary.split()) ] for text, summary in zip(test_x['cleaned_Texts'],test_x['cleaned_Summaries']) ]\n",
    "\n",
    "scalar=StandardScaler(with_mean=False)\n",
    "train_x_text_summary_lengths=scalar.fit_transform(train_x_text_summary_lengths)\n",
    "test_x_text_summary_lengths=scalar.transform(test_x_text_summary_lengths)\n",
    "\n",
    "\n",
    "print('train_x_text_summary_lengths:',len(train_x_text_summary_lengths),'\\n','test_x_text_summary_lengths:',len(test_x_text_summary_lengths))\n",
    "print('set1_x: ',set1_x.shape,'\\n','set1_x_test:',set1_x_test.shape,'\\n','set2_x:',set2_x.shape,'\\n','set2_x_test:',set2_x_test.shape)"
   ]
  },
  {
   "cell_type": "markdown",
   "metadata": {},
   "source": [
    "<b>Add two additional columns into the vectorized data. Note that we have not again vectorized the data and are using the same vectorized data as attempt1 set1 (BOW) and set2(TFIDF) </b>"
   ]
  },
  {
   "cell_type": "code",
   "execution_count": 90,
   "metadata": {},
   "outputs": [
    {
     "name": "stdout",
     "output_type": "stream",
     "text": [
      "set1_x:  (70000, 502) \n",
      " set1_x_test: (30000, 502) \n",
      " set2_x: (70000, 502) \n",
      " set2_x_test: (30000, 502)\n"
     ]
    }
   ],
   "source": [
    "# Adding 2 new columns to existing data.\n",
    "\n",
    "set1_x=np.hstack((set1_x.toarray(), train_x_text_summary_lengths))\n",
    "set1_x_test=np.hstack((set1_x_test.toarray(), test_x_text_summary_lengths))\n",
    "\n",
    "set2_x=np.hstack((set2_x.toarray(), train_x_text_summary_lengths))\n",
    "set2_x_test=np.hstack((set2_x_test.toarray(), test_x_text_summary_lengths))\n",
    "\n",
    "print('set1_x: ',set1_x.shape,'\\n','set1_x_test:',set1_x_test.shape,'\\n','set2_x:',set2_x.shape,'\\n','set2_x_test:',set2_x_test.shape)"
   ]
  },
  {
   "cell_type": "markdown",
   "metadata": {},
   "source": [
    "<b> Plot Area under ROC curve V/S Alpha for train and cross validation data, ROC curve for train and test data, confusion matrix for set1(BOW) data.</b>"
   ]
  },
  {
   "cell_type": "code",
   "execution_count": 91,
   "metadata": {},
   "outputs": [
    {
     "name": "stdout",
     "output_type": "stream",
     "text": [
      "---------------------- BOW--------------------------\n"
     ]
    },
    {
     "data": {
      "image/png": "[encoded data removed]",
      "text/plain": [
       "<Figure size 432x288 with 1 Axes>"
      ]
     },
     "metadata": {},
     "output_type": "display_data"
    },
    {
     "name": "stdout",
     "output_type": "stream",
     "text": [
      "ROC AUC for test data 0.8653955241806306\n"
     ]
    },
    {
     "data": {
      "image/png": "[encoded data removed]",
      "text/plain": [
       "<Figure size 432x288 with 1 Axes>"
      ]
     },
     "metadata": {},
     "output_type": "display_data"
    },
    {
     "data": {
      "image/png": "[encoded data removed]",
      "text/plain": [
       "<Figure size 432x288 with 2 Axes>"
      ]
     },
     "metadata": {},
     "output_type": "display_data"
    },
    {
     "data": {
      "image/png": "[encoded data removed]",
      "text/plain": [
       "<Figure size 432x288 with 2 Axes>"
      ]
     },
     "metadata": {},
     "output_type": "display_data"
    },
    {
     "name": "stdout",
     "output_type": "stream",
     "text": [
      "set1_optimal_alpha: 100 set1_best_auc: 0.8653955241806306\n"
     ]
    }
   ],
   "source": [
    "# Please write all the code with proper documentation\n",
    "\n",
    "#######\n",
    "# BOW #\n",
    "#######\n",
    "\n",
    "print('---------------------- BOW--------------------------')\n",
    "\n",
    "# train the grid and find optimal number of neighbors\n",
    "grid.fit(set1_x,train_y)    \n",
    "set1_optimal_alpha=plot_auc_vs_hyperpameter(param_grid,grid)\n",
    "\n",
    "# train knn with optimal number of neighbors\n",
    "set1_clf=MultinomialNB(fit_prior=True,alpha=set1_optimal_alpha)\n",
    "\n",
    "# find the test dataset roc auc and predicted class labels\n",
    "set1_auc_and_Ypred=plot_roc_curve(set1_x,train_y,set1_x_test,test_y,set1_clf)\n",
    "\n",
    "# plot confusion matrix for train data\n",
    "plot_confusion_matrix(train_y,set1_auc_and_Ypred['y_pred_train'],dataset_type='Train')\n",
    "\n",
    "\n",
    "# plot confusion matrix for test data\n",
    "plot_confusion_matrix(test_y,set1_auc_and_Ypred['y_pred_test'],dataset_type='Test')\n",
    "\n",
    "# Store the set1 results\n",
    "print('set1_optimal_alpha:',set1_optimal_alpha,'set1_best_auc:',set1_auc_and_Ypred['best_auc'])\n",
    "set1_result=['BOW','Naive Bayes:Attempt2',set1_optimal_alpha,set1_auc_and_Ypred['best_auc']]\n"
   ]
  },
  {
   "cell_type": "markdown",
   "metadata": {},
   "source": [
    "<b> From Naive Bayes model we will get coef_ and from BOW vectorizer we will get feature names. Using these two we find top 10 positive and negative class important features.</b> "
   ]
  },
  {
   "cell_type": "code",
   "execution_count": 92,
   "metadata": {},
   "outputs": [
    {
     "data": {
      "text/html": [
       "<div>\n",
       "<style scoped>\n",
       "    .dataframe tbody tr th:only-of-type {\n",
       "        vertical-align: middle;\n",
       "    }\n",
       "\n",
       "    .dataframe tbody tr th {\n",
       "        vertical-align: top;\n",
       "    }\n",
       "\n",
       "    .dataframe thead th {\n",
       "        text-align: right;\n",
       "    }\n",
       "</style>\n",
       "<table border=\"1\" class=\"dataframe\">\n",
       "  <thead>\n",
       "    <tr style=\"text-align: right;\">\n",
       "      <th></th>\n",
       "      <th>feature</th>\n",
       "      <th>log_probability</th>\n",
       "    </tr>\n",
       "  </thead>\n",
       "  <tbody>\n",
       "    <tr>\n",
       "      <th>350</th>\n",
       "      <td>product</td>\n",
       "      <td>-5.41396</td>\n",
       "    </tr>\n",
       "    <tr>\n",
       "      <th>175</th>\n",
       "      <td>flavor</td>\n",
       "      <td>-5.36558</td>\n",
       "    </tr>\n",
       "    <tr>\n",
       "      <th>39</th>\n",
       "      <td>best</td>\n",
       "      <td>-5.35407</td>\n",
       "    </tr>\n",
       "    <tr>\n",
       "      <th>435</th>\n",
       "      <td>taste</td>\n",
       "      <td>-5.31273</td>\n",
       "    </tr>\n",
       "    <tr>\n",
       "      <th>311</th>\n",
       "      <td>one</td>\n",
       "      <td>-5.29657</td>\n",
       "    </tr>\n",
       "    <tr>\n",
       "      <th>264</th>\n",
       "      <td>love</td>\n",
       "      <td>-5.25697</td>\n",
       "    </tr>\n",
       "    <tr>\n",
       "      <th>251</th>\n",
       "      <td>like</td>\n",
       "      <td>-5.15725</td>\n",
       "    </tr>\n",
       "    <tr>\n",
       "      <th>203</th>\n",
       "      <td>good</td>\n",
       "      <td>-5.07614</td>\n",
       "    </tr>\n",
       "    <tr>\n",
       "      <th>206</th>\n",
       "      <td>great</td>\n",
       "      <td>-5.00738</td>\n",
       "    </tr>\n",
       "    <tr>\n",
       "      <th>303</th>\n",
       "      <td>not</td>\n",
       "      <td>-4.89766</td>\n",
       "    </tr>\n",
       "  </tbody>\n",
       "</table>\n",
       "</div>"
      ],
      "text/plain": [
       "     feature log_probability\n",
       "350  product        -5.41396\n",
       "175   flavor        -5.36558\n",
       "39      best        -5.35407\n",
       "435    taste        -5.31273\n",
       "311      one        -5.29657\n",
       "264     love        -5.25697\n",
       "251     like        -5.15725\n",
       "203     good        -5.07614\n",
       "206    great        -5.00738\n",
       "303      not        -4.89766"
      ]
     },
     "execution_count": 92,
     "metadata": {},
     "output_type": "execute_result"
    }
   ],
   "source": [
    "# feature importance of attempt2\n",
    "# Please write all the code with proper documentation\n",
    "\n",
    "set1_feature_importance=pd.DataFrame([set1_count_vect.get_feature_names(),list(set1_clf.feature_log_prob_[1][:500])],index=['feature','log_probability']).T\n",
    "\n",
    "set1_feature_importance.sort_values(by='log_probability')[-10:]  # Top 10 postive class features\n"
   ]
  },
  {
   "cell_type": "code",
   "execution_count": 94,
   "metadata": {},
   "outputs": [
    {
     "data": {
      "text/html": [
       "<div>\n",
       "<style scoped>\n",
       "    .dataframe tbody tr th:only-of-type {\n",
       "        vertical-align: middle;\n",
       "    }\n",
       "\n",
       "    .dataframe tbody tr th {\n",
       "        vertical-align: top;\n",
       "    }\n",
       "\n",
       "    .dataframe thead th {\n",
       "        text-align: right;\n",
       "    }\n",
       "</style>\n",
       "<table border=\"1\" class=\"dataframe\">\n",
       "  <thead>\n",
       "    <tr style=\"text-align: right;\">\n",
       "      <th></th>\n",
       "      <th>feature</th>\n",
       "      <th>log_probability</th>\n",
       "    </tr>\n",
       "  </thead>\n",
       "  <tbody>\n",
       "    <tr>\n",
       "      <th>300</th>\n",
       "      <td>no</td>\n",
       "      <td>-5.23932</td>\n",
       "    </tr>\n",
       "    <tr>\n",
       "      <th>30</th>\n",
       "      <td>bad</td>\n",
       "      <td>-5.20586</td>\n",
       "    </tr>\n",
       "    <tr>\n",
       "      <th>127</th>\n",
       "      <td>disappointed</td>\n",
       "      <td>-5.18449</td>\n",
       "    </tr>\n",
       "    <tr>\n",
       "      <th>286</th>\n",
       "      <td>money</td>\n",
       "      <td>-5.17784</td>\n",
       "    </tr>\n",
       "    <tr>\n",
       "      <th>311</th>\n",
       "      <td>one</td>\n",
       "      <td>-5.1739</td>\n",
       "    </tr>\n",
       "    <tr>\n",
       "      <th>435</th>\n",
       "      <td>taste</td>\n",
       "      <td>-4.98779</td>\n",
       "    </tr>\n",
       "    <tr>\n",
       "      <th>251</th>\n",
       "      <td>like</td>\n",
       "      <td>-4.97075</td>\n",
       "    </tr>\n",
       "    <tr>\n",
       "      <th>350</th>\n",
       "      <td>product</td>\n",
       "      <td>-4.94482</td>\n",
       "    </tr>\n",
       "    <tr>\n",
       "      <th>493</th>\n",
       "      <td>would</td>\n",
       "      <td>-4.89139</td>\n",
       "    </tr>\n",
       "    <tr>\n",
       "      <th>303</th>\n",
       "      <td>not</td>\n",
       "      <td>-4.37809</td>\n",
       "    </tr>\n",
       "  </tbody>\n",
       "</table>\n",
       "</div>"
      ],
      "text/plain": [
       "          feature log_probability\n",
       "300            no        -5.23932\n",
       "30            bad        -5.20586\n",
       "127  disappointed        -5.18449\n",
       "286         money        -5.17784\n",
       "311           one         -5.1739\n",
       "435         taste        -4.98779\n",
       "251          like        -4.97075\n",
       "350       product        -4.94482\n",
       "493         would        -4.89139\n",
       "303           not        -4.37809"
      ]
     },
     "execution_count": 94,
     "metadata": {},
     "output_type": "execute_result"
    }
   ],
   "source": [
    "# Please write all the code with proper documentation\n",
    "\n",
    "set1_feature_importance=pd.DataFrame([set1_count_vect.get_feature_names(),list(set1_clf.feature_log_prob_[0][:500])],index=['feature','log_probability']).T\n",
    "\n",
    "set1_feature_importance.sort_values(by='log_probability')[-10:]  # Top 10 negative class features"
   ]
  },
  {
   "cell_type": "markdown",
   "metadata": {},
   "source": [
    "<b> Plot Area under ROC curve V/S Alpha for train and cross validation data, ROC curve for train and test data, confusion matrix for set2(TFIDF) data.</b>"
   ]
  },
  {
   "cell_type": "code",
   "execution_count": 96,
   "metadata": {},
   "outputs": [
    {
     "name": "stdout",
     "output_type": "stream",
     "text": [
      "--------------- TFIDF-------------------\n"
     ]
    },
    {
     "data": {
      "image/png": "[encoded data removed]",
      "text/plain": [
       "<Figure size 432x288 with 1 Axes>"
      ]
     },
     "metadata": {},
     "output_type": "display_data"
    },
    {
     "name": "stdout",
     "output_type": "stream",
     "text": [
      "ROC AUC for test data 0.87856180217402\n"
     ]
    },
    {
     "data": {
      "image/png": "[encoded data removed]",
      "text/plain": [
       "<Figure size 432x288 with 1 Axes>"
      ]
     },
     "metadata": {},
     "output_type": "display_data"
    },
    {
     "data": {
      "image/png": "[encoded data removed]",
      "text/plain": [
       "<Figure size 432x288 with 2 Axes>"
      ]
     },
     "metadata": {},
     "output_type": "display_data"
    },
    {
     "data": {
      "image/png": "[encoded data removed]",
      "text/plain": [
       "<Figure size 432x288 with 2 Axes>"
      ]
     },
     "metadata": {},
     "output_type": "display_data"
    },
    {
     "name": "stdout",
     "output_type": "stream",
     "text": [
      "set2_optimal_alpha: 10 set2_best_auc: 0.87856180217402\n"
     ]
    }
   ],
   "source": [
    "\n",
    "# Please write all the code with proper documentation\n",
    "\n",
    "########\n",
    "# TFIDF#\n",
    "########\n",
    "\n",
    "print('--------------- TFIDF-------------------')\n",
    "\n",
    "# train the grid and find optimal number of neighbors\n",
    "grid.fit(set2_x,train_y)\n",
    "set2_optimal_alpha=plot_auc_vs_hyperpameter(param_grid,grid)\n",
    "\n",
    "# train knn with optimal number of neighbors\n",
    "set2_clf=MultinomialNB(fit_prior=True,alpha=set2_optimal_alpha)\n",
    "\n",
    "# find the test dataset roc auc and predicted class labels\n",
    "set2_auc_and_Ypred=plot_roc_curve(set2_x,train_y,set2_x_test,test_y,set2_clf)\n",
    "\n",
    "# plot confusion matrix for train data\n",
    "plot_confusion_matrix(train_y,set2_auc_and_Ypred['y_pred_train'],dataset_type='Train')\n",
    "\n",
    "\n",
    "# plot confusion matrix for test data\n",
    "plot_confusion_matrix(test_y,set2_auc_and_Ypred['y_pred_test'],dataset_type='Test')\n",
    "\n",
    "\n",
    "# store the set2 results\n",
    "print('set2_optimal_alpha:',set2_optimal_alpha,'set2_best_auc:',set2_auc_and_Ypred['best_auc'])\n",
    "set2_result=['TFIDF','Naive Bayes:Attempt2',set2_optimal_alpha,set2_auc_and_Ypred['best_auc']]\n"
   ]
  },
  {
   "cell_type": "markdown",
   "metadata": {},
   "source": [
    "<b> From Naive Bayes model we will get coef_ and from TFIDF vectorizer we will get feature names. Using these two we find top 10 positive and negative class important features. </b> "
   ]
  },
  {
   "cell_type": "code",
   "execution_count": 97,
   "metadata": {},
   "outputs": [
    {
     "data": {
      "text/html": [
       "<div>\n",
       "<style scoped>\n",
       "    .dataframe tbody tr th:only-of-type {\n",
       "        vertical-align: middle;\n",
       "    }\n",
       "\n",
       "    .dataframe tbody tr th {\n",
       "        vertical-align: top;\n",
       "    }\n",
       "\n",
       "    .dataframe thead th {\n",
       "        text-align: right;\n",
       "    }\n",
       "</style>\n",
       "<table border=\"1\" class=\"dataframe\">\n",
       "  <thead>\n",
       "    <tr style=\"text-align: right;\">\n",
       "      <th></th>\n",
       "      <th>feature</th>\n",
       "      <th>log_probability</th>\n",
       "    </tr>\n",
       "  </thead>\n",
       "  <tbody>\n",
       "    <tr>\n",
       "      <th>36</th>\n",
       "      <td>best</td>\n",
       "      <td>-5.38778</td>\n",
       "    </tr>\n",
       "    <tr>\n",
       "      <th>349</th>\n",
       "      <td>product</td>\n",
       "      <td>-5.3725</td>\n",
       "    </tr>\n",
       "    <tr>\n",
       "      <th>167</th>\n",
       "      <td>flavor</td>\n",
       "      <td>-5.33927</td>\n",
       "    </tr>\n",
       "    <tr>\n",
       "      <th>434</th>\n",
       "      <td>taste</td>\n",
       "      <td>-5.28895</td>\n",
       "    </tr>\n",
       "    <tr>\n",
       "      <th>258</th>\n",
       "      <td>love</td>\n",
       "      <td>-5.27716</td>\n",
       "    </tr>\n",
       "    <tr>\n",
       "      <th>311</th>\n",
       "      <td>one</td>\n",
       "      <td>-5.27171</td>\n",
       "    </tr>\n",
       "    <tr>\n",
       "      <th>245</th>\n",
       "      <td>like</td>\n",
       "      <td>-5.12057</td>\n",
       "    </tr>\n",
       "    <tr>\n",
       "      <th>196</th>\n",
       "      <td>good</td>\n",
       "      <td>-5.08888</td>\n",
       "    </tr>\n",
       "    <tr>\n",
       "      <th>199</th>\n",
       "      <td>great</td>\n",
       "      <td>-5.04011</td>\n",
       "    </tr>\n",
       "    <tr>\n",
       "      <th>297</th>\n",
       "      <td>not</td>\n",
       "      <td>-4.74327</td>\n",
       "    </tr>\n",
       "  </tbody>\n",
       "</table>\n",
       "</div>"
      ],
      "text/plain": [
       "     feature log_probability\n",
       "36      best        -5.38778\n",
       "349  product         -5.3725\n",
       "167   flavor        -5.33927\n",
       "434    taste        -5.28895\n",
       "258     love        -5.27716\n",
       "311      one        -5.27171\n",
       "245     like        -5.12057\n",
       "196     good        -5.08888\n",
       "199    great        -5.04011\n",
       "297      not        -4.74327"
      ]
     },
     "execution_count": 97,
     "metadata": {},
     "output_type": "execute_result"
    }
   ],
   "source": [
    "# Please write all the code with proper documentation\n",
    "\n",
    "\n",
    "feature_importance=pd.DataFrame([set2_tfidf_vect.get_feature_names(),list(set2_clf.feature_log_prob_[1][:500])],index=['feature','log_probability']).T\n",
    "\n",
    "feature_importance.sort_values(by='log_probability')[-10:]  # Top 10 postive class features\n",
    "\n"
   ]
  },
  {
   "cell_type": "code",
   "execution_count": 99,
   "metadata": {},
   "outputs": [
    {
     "data": {
      "text/html": [
       "<div>\n",
       "<style scoped>\n",
       "    .dataframe tbody tr th:only-of-type {\n",
       "        vertical-align: middle;\n",
       "    }\n",
       "\n",
       "    .dataframe tbody tr th {\n",
       "        vertical-align: top;\n",
       "    }\n",
       "\n",
       "    .dataframe thead th {\n",
       "        text-align: right;\n",
       "    }\n",
       "</style>\n",
       "<table border=\"1\" class=\"dataframe\">\n",
       "  <thead>\n",
       "    <tr style=\"text-align: right;\">\n",
       "      <th></th>\n",
       "      <th>feature</th>\n",
       "      <th>log_probability</th>\n",
       "    </tr>\n",
       "  </thead>\n",
       "  <tbody>\n",
       "    <tr>\n",
       "      <th>27</th>\n",
       "      <td>bad</td>\n",
       "      <td>-5.14326</td>\n",
       "    </tr>\n",
       "    <tr>\n",
       "      <th>120</th>\n",
       "      <td>disappointed</td>\n",
       "      <td>-5.14012</td>\n",
       "    </tr>\n",
       "    <tr>\n",
       "      <th>279</th>\n",
       "      <td>money</td>\n",
       "      <td>-5.13708</td>\n",
       "    </tr>\n",
       "    <tr>\n",
       "      <th>494</th>\n",
       "      <td>would not</td>\n",
       "      <td>-5.11845</td>\n",
       "    </tr>\n",
       "    <tr>\n",
       "      <th>311</th>\n",
       "      <td>one</td>\n",
       "      <td>-5.08755</td>\n",
       "    </tr>\n",
       "    <tr>\n",
       "      <th>349</th>\n",
       "      <td>product</td>\n",
       "      <td>-4.96715</td>\n",
       "    </tr>\n",
       "    <tr>\n",
       "      <th>434</th>\n",
       "      <td>taste</td>\n",
       "      <td>-4.91378</td>\n",
       "    </tr>\n",
       "    <tr>\n",
       "      <th>245</th>\n",
       "      <td>like</td>\n",
       "      <td>-4.86088</td>\n",
       "    </tr>\n",
       "    <tr>\n",
       "      <th>493</th>\n",
       "      <td>would</td>\n",
       "      <td>-4.78837</td>\n",
       "    </tr>\n",
       "    <tr>\n",
       "      <th>297</th>\n",
       "      <td>not</td>\n",
       "      <td>-4.08831</td>\n",
       "    </tr>\n",
       "  </tbody>\n",
       "</table>\n",
       "</div>"
      ],
      "text/plain": [
       "          feature log_probability\n",
       "27            bad        -5.14326\n",
       "120  disappointed        -5.14012\n",
       "279         money        -5.13708\n",
       "494     would not        -5.11845\n",
       "311           one        -5.08755\n",
       "349       product        -4.96715\n",
       "434         taste        -4.91378\n",
       "245          like        -4.86088\n",
       "493         would        -4.78837\n",
       "297           not        -4.08831"
      ]
     },
     "execution_count": 99,
     "metadata": {},
     "output_type": "execute_result"
    }
   ],
   "source": [
    "# Please write all the code with proper documentation\n",
    "\n",
    "feature_importance=pd.DataFrame([set2_tfidf_vect.get_feature_names(),list(set2_clf.feature_log_prob_[0][:500])],index=['feature','log_probability']).T\n",
    "\n",
    "feature_importance.sort_values(by='log_probability')[-10:]  # Top 10 negative class features"
   ]
  },
  {
   "cell_type": "markdown",
   "metadata": {},
   "source": [
    "<b>Tabulate the result from attempt2</b>"
   ]
  },
  {
   "cell_type": "code",
   "execution_count": 101,
   "metadata": {},
   "outputs": [],
   "source": [
    "# Pretty table append the results.\n",
    "# We will use set1 and set2 for Naive Bayes implementations for BOW and TFIDF respectively.\n",
    "\n",
    "table.add_row(set1_result)\n",
    "table.add_row(set2_result)"
   ]
  },
  {
   "cell_type": "markdown",
   "metadata": {},
   "source": [
    "<h1>Attempt3: Combine both preprocessed review texts and summaries and binarize it using bow (set1) and tfidf(set2).Create one extra column using the length of this combined review text and length of review summary.</h1>"
   ]
  },
  {
   "cell_type": "markdown",
   "metadata": {},
   "source": [
    "<b> Combine both review summary and texts</b>"
   ]
  },
  {
   "cell_type": "code",
   "execution_count": 102,
   "metadata": {},
   "outputs": [
    {
     "name": "stdout",
     "output_type": "stream",
     "text": [
      "(70000,) (30000,)\n"
     ]
    }
   ],
   "source": [
    "# Combine the data of summary and texts\n",
    "\n",
    "train_x = train_x['cleaned_Summaries'] + ' ' + train_x['cleaned_Texts'] \n",
    "test_x = test_x['cleaned_Summaries'] + ' ' + test_x['cleaned_Texts']\n",
    "\n",
    "print(train_x.shape,test_x.shape)"
   ]
  },
  {
   "cell_type": "markdown",
   "metadata": {},
   "source": [
    "<b> We find the length of review summaries and review texts and standarize them.</b>"
   ]
  },
  {
   "cell_type": "code",
   "execution_count": 103,
   "metadata": {},
   "outputs": [
    {
     "name": "stdout",
     "output_type": "stream",
     "text": [
      "train_x_lengths: (70000, 1) \n",
      " test_x_lengths (30000, 1)\n"
     ]
    }
   ],
   "source": [
    "# find the length of combined text from review summary and review text and \n",
    "\n",
    "train_x_lengths = np.reshape([ len(review.split()) for review in train_x ],(-1,1))\n",
    "test_x_lengths = np.reshape([ len(review.split()) for review in test_x ], (-1,1))\n",
    "\n",
    "scalar=StandardScaler(with_mean=False)\n",
    "train_x_lengths=scalar.fit_transform(train_x_lengths)\n",
    "test_x_lengths=scalar.transform(test_x_lengths)\n",
    "\n",
    "print('train_x_lengths:',train_x_lengths.shape,'\\n','test_x_lengths',test_x_lengths.shape)"
   ]
  },
  {
   "cell_type": "markdown",
   "metadata": {},
   "source": [
    "<b>Since we are combining the data from review summary and text, therefore we need to Vectorize and standardize the train and test datasets using BOW (set1) and TFIDF(set2) </b>"
   ]
  },
  {
   "cell_type": "code",
   "execution_count": 104,
   "metadata": {},
   "outputs": [
    {
     "name": "stdout",
     "output_type": "stream",
     "text": [
      "For BOW\n",
      "----------------------------------------------------\n",
      "the type of train and test vectorizer  <class 'scipy.sparse.csr.csr_matrix'> <class 'scipy.sparse.csr.csr_matrix'>\n",
      "the shape of train and test vectorizer  (70000, 500) (30000, 500)\n",
      "the number of unique words in train and test 500 500\n",
      "\n",
      "For TFIDF\n",
      "----------------------------------------------------\n",
      "the type of train and test vectorizer  <class 'scipy.sparse.csr.csr_matrix'> <class 'scipy.sparse.csr.csr_matrix'>\n",
      "the shape of train and test vectorizer  (70000, 500) (30000, 500)\n",
      "the number of unique words in train and test 500 500\n"
     ]
    }
   ],
   "source": [
    "# vectorize train_x and test_x\n",
    "\n",
    "#BOW\n",
    "\n",
    "set1_count_vect=CountVectorizer(max_features=500,dtype='float64')           #\n",
    "set1_x, set1_x_test = vectorize_standardarize_data(set1_count_vect,train_x,test_x)\n",
    "\n",
    "print('For BOW')\n",
    "print('----------------------------------------------------')\n",
    "print(\"the type of train and test vectorizer \",type(set1_x),type(set1_x_test))\n",
    "print(\"the shape of train and test vectorizer \",set1_x.get_shape(),set1_x_test.get_shape())\n",
    "print(\"the number of unique words in train and test\", set1_x.get_shape()[1],set1_x_test.get_shape()[1])\n",
    "\n",
    "#TFIDF\n",
    "\n",
    "set2_tfidf_vect=TfidfVectorizer(max_features=500,dtype='float64',ngram_range=(1,2))\n",
    "set2_x, set2_x_test = vectorize_standardarize_data(set2_tfidf_vect,train_x,test_x)\n",
    "\n",
    "print('\\nFor TFIDF')\n",
    "print('----------------------------------------------------')\n",
    "print(\"the type of train and test vectorizer \",type(set2_x),type(set2_x_test))\n",
    "print(\"the shape of train and test vectorizer \",set2_x.get_shape(),set2_x_test.get_shape())\n",
    "print(\"the number of unique words in train and test\", set2_x.get_shape()[1],set2_x_test.get_shape()[1])\n"
   ]
  },
  {
   "cell_type": "markdown",
   "metadata": {},
   "source": [
    "<b>Add additional columns into the vectorized data. Note that we have not again vectorized the data and are using the same vectorized data as attempt1 set1 (BOW) and set2(TFIDF) </b>"
   ]
  },
  {
   "cell_type": "code",
   "execution_count": 105,
   "metadata": {},
   "outputs": [
    {
     "name": "stdout",
     "output_type": "stream",
     "text": [
      "train_x_text_summary_lengths: 70000 \n",
      " test_x_text_summary_lengths: 30000\n",
      "set1_x:  (70000, 501) \n",
      " set1_x_test: (30000, 501) \n",
      " set2_x: (70000, 501) \n",
      " set2_x_test: (30000, 501)\n"
     ]
    }
   ],
   "source": [
    "# Add 1 extra column which contains the length of combined texts from review texts and review summary.\n",
    "\n",
    "set1_x=np.hstack((set1_x.toarray(), train_x_lengths))\n",
    "set1_x_test=np.hstack((set1_x_test.toarray(), test_x_lengths))\n",
    "\n",
    "set2_x=np.hstack((set2_x.toarray(), train_x_lengths))\n",
    "set2_x_test=np.hstack((set2_x_test.toarray(), test_x_lengths))\n",
    "\n",
    "\n",
    "print('train_x_text_summary_lengths:',len(train_x_text_summary_lengths),'\\n','test_x_text_summary_lengths:',len(test_x_text_summary_lengths))\n",
    "print('set1_x: ',set1_x.shape,'\\n','set1_x_test:',set1_x_test.shape,'\\n','set2_x:',set2_x.shape,'\\n','set2_x_test:',set2_x_test.shape)"
   ]
  },
  {
   "cell_type": "markdown",
   "metadata": {},
   "source": [
    "<b> Plot Area under ROC curve V/S Alpha for train and cross validation data, ROC curve for train and test data, confusion matrix for set1(BOW) data.</b>"
   ]
  },
  {
   "cell_type": "code",
   "execution_count": 106,
   "metadata": {},
   "outputs": [
    {
     "name": "stdout",
     "output_type": "stream",
     "text": [
      "---------------------- BOW--------------------------\n"
     ]
    },
    {
     "data": {
      "image/png": "[encoded data removed]",
      "text/plain": [
       "<Figure size 432x288 with 1 Axes>"
      ]
     },
     "metadata": {},
     "output_type": "display_data"
    },
    {
     "name": "stdout",
     "output_type": "stream",
     "text": [
      "ROC AUC for test data 0.8902978874234593\n"
     ]
    },
    {
     "data": {
      "image/png": "[encoded data removed]",
      "text/plain": [
       "<Figure size 432x288 with 1 Axes>"
      ]
     },
     "metadata": {},
     "output_type": "display_data"
    },
    {
     "data": {
      "image/png": "[encoded data removed]",
      "text/plain": [
       "<Figure size 432x288 with 2 Axes>"
      ]
     },
     "metadata": {},
     "output_type": "display_data"
    },
    {
     "data": {
      "image/png": "[encoded data removed]",
      "text/plain": [
       "<Figure size 432x288 with 2 Axes>"
      ]
     },
     "metadata": {},
     "output_type": "display_data"
    },
    {
     "name": "stdout",
     "output_type": "stream",
     "text": [
      "set1_optimal_alpha: 100 set1_best_auc: 0.8902978874234593\n"
     ]
    }
   ],
   "source": [
    "# Please write all the code with proper documentation\n",
    "\n",
    "#######\n",
    "# BOW #\n",
    "#######\n",
    "\n",
    "print('---------------------- BOW--------------------------')\n",
    "\n",
    "# train the grid and find optimal number of neighbors\n",
    "grid.fit(set1_x,train_y)    \n",
    "set1_optimal_alpha=plot_auc_vs_hyperpameter(param_grid,grid)\n",
    "\n",
    "# train knn with optimal number of neighbors\n",
    "set1_clf=MultinomialNB(fit_prior=True,alpha=set1_optimal_alpha)\n",
    "\n",
    "# find the test dataset roc auc and predicted class labels\n",
    "set1_auc_and_Ypred=plot_roc_curve(set1_x,train_y,set1_x_test,test_y,set1_clf)\n",
    "\n",
    "# plot confusion matrix for train data\n",
    "plot_confusion_matrix(train_y,set1_auc_and_Ypred['y_pred_train'],dataset_type='Train')\n",
    "\n",
    "\n",
    "# plot confusion matrix for test data\n",
    "plot_confusion_matrix(test_y,set1_auc_and_Ypred['y_pred_test'],dataset_type='Test')\n",
    "\n",
    "# Store the set1 results\n",
    "print('set1_optimal_alpha:',set1_optimal_alpha,'set1_best_auc:',set1_auc_and_Ypred['best_auc'])\n",
    "set1_result=['BOW','Naive Bayes:Attempt3',set1_optimal_alpha,set1_auc_and_Ypred['best_auc']]\n"
   ]
  },
  {
   "cell_type": "markdown",
   "metadata": {},
   "source": [
    "<b> From Naive Bayes model we will get coef_ and from BOW vectorizer we will get feature names. Using these two we find top 10 positive and negative class important features. </b>"
   ]
  },
  {
   "cell_type": "code",
   "execution_count": 107,
   "metadata": {},
   "outputs": [
    {
     "data": {
      "text/html": [
       "<div>\n",
       "<style scoped>\n",
       "    .dataframe tbody tr th:only-of-type {\n",
       "        vertical-align: middle;\n",
       "    }\n",
       "\n",
       "    .dataframe tbody tr th {\n",
       "        vertical-align: top;\n",
       "    }\n",
       "\n",
       "    .dataframe thead th {\n",
       "        text-align: right;\n",
       "    }\n",
       "</style>\n",
       "<table border=\"1\" class=\"dataframe\">\n",
       "  <thead>\n",
       "    <tr style=\"text-align: right;\">\n",
       "      <th></th>\n",
       "      <th>feature</th>\n",
       "      <th>log_probability</th>\n",
       "    </tr>\n",
       "  </thead>\n",
       "  <tbody>\n",
       "    <tr>\n",
       "      <th>175</th>\n",
       "      <td>flavor</td>\n",
       "      <td>-5.35083</td>\n",
       "    </tr>\n",
       "    <tr>\n",
       "      <th>348</th>\n",
       "      <td>product</td>\n",
       "      <td>-5.34639</td>\n",
       "    </tr>\n",
       "    <tr>\n",
       "      <th>435</th>\n",
       "      <td>taste</td>\n",
       "      <td>-5.2833</td>\n",
       "    </tr>\n",
       "    <tr>\n",
       "      <th>310</th>\n",
       "      <td>one</td>\n",
       "      <td>-5.28294</td>\n",
       "    </tr>\n",
       "    <tr>\n",
       "      <th>37</th>\n",
       "      <td>best</td>\n",
       "      <td>-5.2119</td>\n",
       "    </tr>\n",
       "    <tr>\n",
       "      <th>263</th>\n",
       "      <td>love</td>\n",
       "      <td>-5.19884</td>\n",
       "    </tr>\n",
       "    <tr>\n",
       "      <th>250</th>\n",
       "      <td>like</td>\n",
       "      <td>-5.14462</td>\n",
       "    </tr>\n",
       "    <tr>\n",
       "      <th>203</th>\n",
       "      <td>good</td>\n",
       "      <td>-4.98375</td>\n",
       "    </tr>\n",
       "    <tr>\n",
       "      <th>302</th>\n",
       "      <td>not</td>\n",
       "      <td>-4.89688</td>\n",
       "    </tr>\n",
       "    <tr>\n",
       "      <th>206</th>\n",
       "      <td>great</td>\n",
       "      <td>-4.85479</td>\n",
       "    </tr>\n",
       "  </tbody>\n",
       "</table>\n",
       "</div>"
      ],
      "text/plain": [
       "     feature log_probability\n",
       "175   flavor        -5.35083\n",
       "348  product        -5.34639\n",
       "435    taste         -5.2833\n",
       "310      one        -5.28294\n",
       "37      best         -5.2119\n",
       "263     love        -5.19884\n",
       "250     like        -5.14462\n",
       "203     good        -4.98375\n",
       "302      not        -4.89688\n",
       "206    great        -4.85479"
      ]
     },
     "execution_count": 107,
     "metadata": {},
     "output_type": "execute_result"
    }
   ],
   "source": [
    "# feature importance of attempt3\n",
    "\n",
    "\n",
    "set1_feature_importance=pd.DataFrame([set1_count_vect.get_feature_names(),list(set1_clf.feature_log_prob_[1][:500])],index=['feature','log_probability']).T\n",
    "\n",
    "set1_feature_importance.sort_values(by='log_probability')[-10:]  # Top 10 postive class features"
   ]
  },
  {
   "cell_type": "code",
   "execution_count": 109,
   "metadata": {},
   "outputs": [
    {
     "data": {
      "text/html": [
       "<div>\n",
       "<style scoped>\n",
       "    .dataframe tbody tr th:only-of-type {\n",
       "        vertical-align: middle;\n",
       "    }\n",
       "\n",
       "    .dataframe tbody tr th {\n",
       "        vertical-align: top;\n",
       "    }\n",
       "\n",
       "    .dataframe thead th {\n",
       "        text-align: right;\n",
       "    }\n",
       "</style>\n",
       "<table border=\"1\" class=\"dataframe\">\n",
       "  <thead>\n",
       "    <tr style=\"text-align: right;\">\n",
       "      <th></th>\n",
       "      <th>feature</th>\n",
       "      <th>log_probability</th>\n",
       "    </tr>\n",
       "  </thead>\n",
       "  <tbody>\n",
       "    <tr>\n",
       "      <th>299</th>\n",
       "      <td>no</td>\n",
       "      <td>-5.16035</td>\n",
       "    </tr>\n",
       "    <tr>\n",
       "      <th>310</th>\n",
       "      <td>one</td>\n",
       "      <td>-5.14881</td>\n",
       "    </tr>\n",
       "    <tr>\n",
       "      <th>285</th>\n",
       "      <td>money</td>\n",
       "      <td>-5.10225</td>\n",
       "    </tr>\n",
       "    <tr>\n",
       "      <th>28</th>\n",
       "      <td>bad</td>\n",
       "      <td>-5.08379</td>\n",
       "    </tr>\n",
       "    <tr>\n",
       "      <th>127</th>\n",
       "      <td>disappointed</td>\n",
       "      <td>-5.0333</td>\n",
       "    </tr>\n",
       "    <tr>\n",
       "      <th>348</th>\n",
       "      <td>product</td>\n",
       "      <td>-4.94189</td>\n",
       "    </tr>\n",
       "    <tr>\n",
       "      <th>435</th>\n",
       "      <td>taste</td>\n",
       "      <td>-4.93261</td>\n",
       "    </tr>\n",
       "    <tr>\n",
       "      <th>250</th>\n",
       "      <td>like</td>\n",
       "      <td>-4.90393</td>\n",
       "    </tr>\n",
       "    <tr>\n",
       "      <th>492</th>\n",
       "      <td>would</td>\n",
       "      <td>-4.86083</td>\n",
       "    </tr>\n",
       "    <tr>\n",
       "      <th>302</th>\n",
       "      <td>not</td>\n",
       "      <td>-4.25965</td>\n",
       "    </tr>\n",
       "  </tbody>\n",
       "</table>\n",
       "</div>"
      ],
      "text/plain": [
       "          feature log_probability\n",
       "299            no        -5.16035\n",
       "310           one        -5.14881\n",
       "285         money        -5.10225\n",
       "28            bad        -5.08379\n",
       "127  disappointed         -5.0333\n",
       "348       product        -4.94189\n",
       "435         taste        -4.93261\n",
       "250          like        -4.90393\n",
       "492         would        -4.86083\n",
       "302           not        -4.25965"
      ]
     },
     "execution_count": 109,
     "metadata": {},
     "output_type": "execute_result"
    }
   ],
   "source": [
    "# Please write all the code with proper documentation\n",
    "\n",
    "set1_feature_importance=pd.DataFrame([set1_count_vect.get_feature_names(),list(set1_clf.feature_log_prob_[0][:500])],index=['feature','log_probability']).T\n",
    "\n",
    "set1_feature_importance.sort_values(by='log_probability')[-10:]  # Top 10 negative class features"
   ]
  },
  {
   "cell_type": "markdown",
   "metadata": {},
   "source": [
    "<b> Plot Area under ROC curve V/S Alpha for train and cross validation data, ROC curve for train and test data, confusion matrix for set2(TFIDF) data.</b>"
   ]
  },
  {
   "cell_type": "code",
   "execution_count": 111,
   "metadata": {},
   "outputs": [
    {
     "name": "stdout",
     "output_type": "stream",
     "text": [
      "--------------- TFIDF-------------------\n"
     ]
    },
    {
     "data": {
      "image/png": "[encoded data removed]",
      "text/plain": [
       "<Figure size 432x288 with 1 Axes>"
      ]
     },
     "metadata": {},
     "output_type": "display_data"
    },
    {
     "name": "stdout",
     "output_type": "stream",
     "text": [
      "ROC AUC for test data 0.904516729606494\n"
     ]
    },
    {
     "data": {
      "image/png": "[encoded data removed]",
      "text/plain": [
       "<Figure size 432x288 with 1 Axes>"
      ]
     },
     "metadata": {},
     "output_type": "display_data"
    },
    {
     "data": {
      "image/png": "[encoded data removed]",
      "text/plain": [
       "<Figure size 432x288 with 2 Axes>"
      ]
     },
     "metadata": {},
     "output_type": "display_data"
    },
    {
     "data": {
      "image/png": "[encoded data removed]",
      "text/plain": [
       "<Figure size 432x288 with 2 Axes>"
      ]
     },
     "metadata": {},
     "output_type": "display_data"
    },
    {
     "name": "stdout",
     "output_type": "stream",
     "text": [
      "set2_optimal_alpha: 10 set2_best_auc: 0.904516729606494\n"
     ]
    }
   ],
   "source": [
    "\n",
    "# Please write all the code with proper documentation\n",
    "\n",
    "########\n",
    "# TFIDF#\n",
    "########\n",
    "\n",
    "print('--------------- TFIDF-------------------')\n",
    "\n",
    "# train the grid and find optimal number of neighbors\n",
    "grid.fit(set2_x,train_y)\n",
    "set2_optimal_alpha=plot_auc_vs_hyperpameter(param_grid,grid)\n",
    "\n",
    "# train knn with optimal number of neighbors\n",
    "set2_clf=MultinomialNB(fit_prior=True,alpha=set2_optimal_alpha)\n",
    "\n",
    "# find the test dataset roc auc and predicted class labels\n",
    "set2_auc_and_Ypred=plot_roc_curve(set2_x,train_y,set2_x_test,test_y,set2_clf)\n",
    "\n",
    "# plot confusion matrix for train data\n",
    "plot_confusion_matrix(train_y,set2_auc_and_Ypred['y_pred_train'],dataset_type='Train')\n",
    "\n",
    "\n",
    "# plot confusion matrix for test data\n",
    "plot_confusion_matrix(test_y,set2_auc_and_Ypred['y_pred_test'],dataset_type='Test')\n",
    "\n",
    "# store the set2 results\n",
    "print('set2_optimal_alpha:',set2_optimal_alpha,'set2_best_auc:',set2_auc_and_Ypred['best_auc'])\n",
    "set2_result=['TFIDF','Naive Bayes:Attempt3',set2_optimal_alpha,set2_auc_and_Ypred['best_auc']]\n",
    "\n",
    "\n"
   ]
  },
  {
   "cell_type": "markdown",
   "metadata": {},
   "source": [
    "<b> From Naive Bayes model we will get coef_ and from TFIDF vectorizer we will get feature names. Using these two we find top 10 positive and negative class important features. </b> "
   ]
  },
  {
   "cell_type": "code",
   "execution_count": 112,
   "metadata": {},
   "outputs": [
    {
     "data": {
      "text/html": [
       "<div>\n",
       "<style scoped>\n",
       "    .dataframe tbody tr th:only-of-type {\n",
       "        vertical-align: middle;\n",
       "    }\n",
       "\n",
       "    .dataframe tbody tr th {\n",
       "        vertical-align: top;\n",
       "    }\n",
       "\n",
       "    .dataframe thead th {\n",
       "        text-align: right;\n",
       "    }\n",
       "</style>\n",
       "<table border=\"1\" class=\"dataframe\">\n",
       "  <thead>\n",
       "    <tr style=\"text-align: right;\">\n",
       "      <th></th>\n",
       "      <th>feature</th>\n",
       "      <th>log_probability</th>\n",
       "    </tr>\n",
       "  </thead>\n",
       "  <tbody>\n",
       "    <tr>\n",
       "      <th>165</th>\n",
       "      <td>flavor</td>\n",
       "      <td>-5.33698</td>\n",
       "    </tr>\n",
       "    <tr>\n",
       "      <th>347</th>\n",
       "      <td>product</td>\n",
       "      <td>-5.31792</td>\n",
       "    </tr>\n",
       "    <tr>\n",
       "      <th>431</th>\n",
       "      <td>taste</td>\n",
       "      <td>-5.27067</td>\n",
       "    </tr>\n",
       "    <tr>\n",
       "      <th>309</th>\n",
       "      <td>one</td>\n",
       "      <td>-5.26072</td>\n",
       "    </tr>\n",
       "    <tr>\n",
       "      <th>37</th>\n",
       "      <td>best</td>\n",
       "      <td>-5.25228</td>\n",
       "    </tr>\n",
       "    <tr>\n",
       "      <th>255</th>\n",
       "      <td>love</td>\n",
       "      <td>-5.2217</td>\n",
       "    </tr>\n",
       "    <tr>\n",
       "      <th>242</th>\n",
       "      <td>like</td>\n",
       "      <td>-5.11108</td>\n",
       "    </tr>\n",
       "    <tr>\n",
       "      <th>193</th>\n",
       "      <td>good</td>\n",
       "      <td>-5.01072</td>\n",
       "    </tr>\n",
       "    <tr>\n",
       "      <th>196</th>\n",
       "      <td>great</td>\n",
       "      <td>-4.89265</td>\n",
       "    </tr>\n",
       "    <tr>\n",
       "      <th>294</th>\n",
       "      <td>not</td>\n",
       "      <td>-4.77272</td>\n",
       "    </tr>\n",
       "  </tbody>\n",
       "</table>\n",
       "</div>"
      ],
      "text/plain": [
       "     feature log_probability\n",
       "165   flavor        -5.33698\n",
       "347  product        -5.31792\n",
       "431    taste        -5.27067\n",
       "309      one        -5.26072\n",
       "37      best        -5.25228\n",
       "255     love         -5.2217\n",
       "242     like        -5.11108\n",
       "193     good        -5.01072\n",
       "196    great        -4.89265\n",
       "294      not        -4.77272"
      ]
     },
     "execution_count": 112,
     "metadata": {},
     "output_type": "execute_result"
    }
   ],
   "source": [
    "# Please write all the code with proper documentation\n",
    "\n",
    "feature_importance=pd.DataFrame([set2_tfidf_vect.get_feature_names(),list(set2_clf.feature_log_prob_[1][:500])],index=['feature','log_probability']).T\n",
    "\n",
    "feature_importance.sort_values(by='log_probability')[-10:]  # Top 10 postive class features\n"
   ]
  },
  {
   "cell_type": "code",
   "execution_count": 114,
   "metadata": {},
   "outputs": [
    {
     "data": {
      "text/html": [
       "<div>\n",
       "<style scoped>\n",
       "    .dataframe tbody tr th:only-of-type {\n",
       "        vertical-align: middle;\n",
       "    }\n",
       "\n",
       "    .dataframe tbody tr th {\n",
       "        vertical-align: top;\n",
       "    }\n",
       "\n",
       "    .dataframe thead th {\n",
       "        text-align: right;\n",
       "    }\n",
       "</style>\n",
       "<table border=\"1\" class=\"dataframe\">\n",
       "  <thead>\n",
       "    <tr style=\"text-align: right;\">\n",
       "      <th></th>\n",
       "      <th>feature</th>\n",
       "      <th>log_probability</th>\n",
       "    </tr>\n",
       "  </thead>\n",
       "  <tbody>\n",
       "    <tr>\n",
       "      <th>493</th>\n",
       "      <td>would not</td>\n",
       "      <td>-5.09793</td>\n",
       "    </tr>\n",
       "    <tr>\n",
       "      <th>309</th>\n",
       "      <td>one</td>\n",
       "      <td>-5.06947</td>\n",
       "    </tr>\n",
       "    <tr>\n",
       "      <th>276</th>\n",
       "      <td>money</td>\n",
       "      <td>-5.06611</td>\n",
       "    </tr>\n",
       "    <tr>\n",
       "      <th>28</th>\n",
       "      <td>bad</td>\n",
       "      <td>-5.01514</td>\n",
       "    </tr>\n",
       "    <tr>\n",
       "      <th>118</th>\n",
       "      <td>disappointed</td>\n",
       "      <td>-5.00472</td>\n",
       "    </tr>\n",
       "    <tr>\n",
       "      <th>347</th>\n",
       "      <td>product</td>\n",
       "      <td>-4.98754</td>\n",
       "    </tr>\n",
       "    <tr>\n",
       "      <th>431</th>\n",
       "      <td>taste</td>\n",
       "      <td>-4.8653</td>\n",
       "    </tr>\n",
       "    <tr>\n",
       "      <th>242</th>\n",
       "      <td>like</td>\n",
       "      <td>-4.79902</td>\n",
       "    </tr>\n",
       "    <tr>\n",
       "      <th>492</th>\n",
       "      <td>would</td>\n",
       "      <td>-4.76837</td>\n",
       "    </tr>\n",
       "    <tr>\n",
       "      <th>294</th>\n",
       "      <td>not</td>\n",
       "      <td>-3.99305</td>\n",
       "    </tr>\n",
       "  </tbody>\n",
       "</table>\n",
       "</div>"
      ],
      "text/plain": [
       "          feature log_probability\n",
       "493     would not        -5.09793\n",
       "309           one        -5.06947\n",
       "276         money        -5.06611\n",
       "28            bad        -5.01514\n",
       "118  disappointed        -5.00472\n",
       "347       product        -4.98754\n",
       "431         taste         -4.8653\n",
       "242          like        -4.79902\n",
       "492         would        -4.76837\n",
       "294           not        -3.99305"
      ]
     },
     "execution_count": 114,
     "metadata": {},
     "output_type": "execute_result"
    }
   ],
   "source": [
    "# Please write all the code with proper documentation\n",
    "\n",
    "feature_importance=pd.DataFrame([set2_tfidf_vect.get_feature_names(),list(set2_clf.feature_log_prob_[0][:500])],index=['feature','log_probability']).T\n",
    "\n",
    "feature_importance.sort_values(by='log_probability')[-10:]  # Top 10 Negative class features\n"
   ]
  },
  {
   "cell_type": "markdown",
   "metadata": {},
   "source": [
    "# [6] Conclusions"
   ]
  },
  {
   "cell_type": "markdown",
   "metadata": {},
   "source": [
    "<b>Tabulate the results and print the table. Below table contains the results from BOW and TFIDF for Attempt1, Attempt2 and Attempt3</b>"
   ]
  },
  {
   "cell_type": "code",
   "execution_count": 116,
   "metadata": {},
   "outputs": [
    {
     "name": "stdout",
     "output_type": "stream",
     "text": [
      "+------------+----------------------+----------------+--------------------+\n",
      "| Vectorizer |        Model         | HyperParameter |        AUC         |\n",
      "+------------+----------------------+----------------+--------------------+\n",
      "|    BOW     | Naive Bayes:Attempt1 |      100       | 0.865500230445388  |\n",
      "|   TFIDF    | Naive Bayes:Attempt1 |      100       | 0.8787793707266434 |\n",
      "|    BOW     | Naive Bayes:Attempt2 |      100       | 0.8653955241806306 |\n",
      "|   TFIDF    | Naive Bayes:Attempt2 |       10       |  0.87856180217402  |\n",
      "|    BOW     | Naive Bayes:Attempt3 |      100       | 0.8902978874234593 |\n",
      "|   TFIDF    | Naive Bayes:Attempt3 |       10       | 0.904516729606494  |\n",
      "+------------+----------------------+----------------+--------------------+\n"
     ]
    }
   ],
   "source": [
    "# Please compare all your models using Prettytable library\n",
    "\n",
    "# Pretty table append the results.\n",
    "# We will use set1 and set2 for Naive Bayes implementations for BOW and TFIDF respectively.\n",
    "\n",
    "table.add_row(set1_result)\n",
    "table.add_row(set2_result)\n",
    "\n",
    "# print the table\n",
    "print(table)"
   ]
  },
  {
   "cell_type": "markdown",
   "metadata": {},
   "source": [
    "<b>\n",
    "\n",
    "<ol type=\"1\">\n",
    "    \n",
    "<li> Comparing above cases, we find that TFIDF or BOW  give more or less similar feature importance e.g. features like \"disappointed\" have been classifed as negative and features like \"great\",\"love\" are classified as positive.  </li>\n",
    "<li> TFIDF performs better than BOW due to higher test AUC as shown above . </li>\n",
    "<li> We used a feature engineering wherein we added length of review texts and length of summaries as two extra columns but performance of the model has not improved.</li>\n",
    "<li> We used another feature engineering wherein we combined the review text and review summary. This way we could improve the model performance.(AUC=0.9 for alpha=10) </li>\n",
    "\n",
    "<li> I have attached an excel containing the confusion matrix for train and test datasets for BOW and TFIDF datasets for Attempt1,Attempt2 and Attempt3. Certainly TFIDF model for Attempt3 has better prediction for true negative and true positives. Also the False positives and False negatives are reduced by adopting this method. This means that model is predicting test dataset more correctly now </li>\n",
    "\n",
    "</ol>\n",
    "\n",
    "</b>"
   ]
  },
  {
   "cell_type": "code",
   "execution_count": null,
   "metadata": {},
   "outputs": [],
   "source": []
  }
 ],
 "metadata": {
  "colab": {
   "name": "04 Amazon Fine Food Reviews Analysis_NaiveBayes.ipynb",
   "provenance": [],
   "version": "0.3.2"
  },
  "kernelspec": {
   "display_name": "Python 3",
   "language": "python",
   "name": "python3"
  },
  "language_info": {
   "codemirror_mode": {
    "name": "ipython",
    "version": 3
   },
   "file_extension": ".py",
   "mimetype": "text/x-python",
   "name": "python",
   "nbconvert_exporter": "python",
   "pygments_lexer": "ipython3",
   "version": "3.6.5"
  }
 },
 "nbformat": 4,
 "nbformat_minor": 1
}
